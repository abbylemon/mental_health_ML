{
  "nbformat": 4,
  "nbformat_minor": 0,
  "metadata": {
    "colab": {
      "name": "cloud_etl.ipynb",
      "provenance": [],
      "collapsed_sections": []
    },
    "kernelspec": {
      "name": "python3",
      "display_name": "Python 3"
    }
  },
  "cells": [
    {
      "cell_type": "markdown",
      "metadata": {
        "id": "WKuC-ZXnbSeU",
        "colab_type": "text"
      },
      "source": [
        "Make sure to go to the **Edit** menu and click **Clear all outputs** before and after running this notebook."
      ]
    },
    {
      "cell_type": "markdown",
      "metadata": {
        "id": "G6DrGJY9ebHl",
        "colab_type": "text"
      },
      "source": [
        "# Load CSV files from S3 bucket into Spark dataframes"
      ]
    },
    {
      "cell_type": "markdown",
      "metadata": {
        "id": "-_u8QZ7KWCPg",
        "colab_type": "text"
      },
      "source": [
        "## Start Spark Session"
      ]
    },
    {
      "cell_type": "code",
      "metadata": {
        "id": "1ud3zn9HhUeC",
        "colab_type": "code",
        "colab": {}
      },
      "source": [
        "# Install Java, Spark, and Findspark\n",
        "!apt-get install openjdk-8-jdk-headless -qq > /dev/null\n",
        "!wget -q http://www-us.apache.org/dist/spark/spark-2.4.5/spark-2.4.5-bin-hadoop2.7.tgz\n",
        "!tar xf spark-2.4.5-bin-hadoop2.7.tgz\n",
        "!pip install -q findspark\n",
        "\n",
        "# Set Environment Variables\n",
        "import os\n",
        "os.environ[\"JAVA_HOME\"] = \"/usr/lib/jvm/java-8-openjdk-amd64\"\n",
        "os.environ[\"SPARK_HOME\"] = \"/content/spark-2.4.5-bin-hadoop2.7\"\n",
        "\n",
        "# Start a SparkSession\n",
        "import findspark\n",
        "findspark.init()"
      ],
      "execution_count": 0,
      "outputs": []
    },
    {
      "cell_type": "code",
      "metadata": {
        "id": "8TPrNmGOdff6",
        "colab_type": "code",
        "colab": {}
      },
      "source": [
        "!wget https://jdbc.postgresql.org/download/postgresql-42.2.9.jar"
      ],
      "execution_count": 0,
      "outputs": []
    },
    {
      "cell_type": "code",
      "metadata": {
        "id": "xuGZMTqQdjhW",
        "colab_type": "code",
        "colab": {}
      },
      "source": [
        "from pyspark.sql import SparkSession\n",
        "spark = SparkSession.builder.appName(\"MentalHealthETL\").config(\"spark.driver.extraClassPath\",\"/content/postgresql-42.2.9.jar\").getOrCreate()"
      ],
      "execution_count": 0,
      "outputs": []
    },
    {
      "cell_type": "markdown",
      "metadata": {
        "id": "8VLwUxitWNc9",
        "colab_type": "text"
      },
      "source": [
        "## Mount Google Drive into this runtime\n",
        "\n",
        "To access the csv data files from the S3 bucket, you need to mount your google drive into this runtime. To do that, run the following cells.\n",
        "\n",
        "This will prompt a URL with an authentication code. After you go to the URL and insert that authentication code in the provided space, your google drive will be mounted."
      ]
    },
    {
      "cell_type": "code",
      "metadata": {
        "id": "if7KU8FHWG5r",
        "colab_type": "code",
        "colab": {}
      },
      "source": [
        "# Mount Google Drive\n",
        "from google.colab import drive\n",
        "drive.mount('/content/gdrive')"
      ],
      "execution_count": 0,
      "outputs": []
    },
    {
      "cell_type": "code",
      "metadata": {
        "id": "1rShythfYP-b",
        "colab_type": "code",
        "colab": {}
      },
      "source": [
        "%cd /content/gdrive/My Drive/data_final_project/mental_health_ML"
      ],
      "execution_count": 0,
      "outputs": []
    },
    {
      "cell_type": "markdown",
      "metadata": {
        "id": "IWEn1lbxe1yA",
        "colab_type": "text"
      },
      "source": [
        "## Create config.py file\n",
        "\n",
        "In the **mental_health_ML** directory, create a file called **config.py** and add the following contents:\n",
        "\n",
        "```bash\n",
        "ACCESS_ID='AWS_ACCESS_KEY_ID'\n",
        "ACCESS_KEY='AWS_SECRET_ACCESS_KEY'\n",
        "BUCKET_NAME='S3_BUCKET_NAME'\n",
        "```\n",
        "\n",
        "Replace AWS_ACCESS_KEY_ID, AWS_SECRET_ACCESS_KEY, and S3_BUCKET_NAME with their actual values. This file is in the .gitignore so that it won't be committed to GitHub."
      ]
    },
    {
      "cell_type": "markdown",
      "metadata": {
        "id": "VwKl8JK4fo9I",
        "colab_type": "text"
      },
      "source": [
        "## Access S3 bucket where csv files are stored"
      ]
    },
    {
      "cell_type": "code",
      "metadata": {
        "id": "fTqZtpDucToI",
        "colab_type": "code",
        "colab": {}
      },
      "source": [
        "# Install aws sdk for python\n",
        "! pip install boto3"
      ],
      "execution_count": 0,
      "outputs": []
    },
    {
      "cell_type": "code",
      "metadata": {
        "id": "wFcAyRQGR3jH",
        "colab_type": "code",
        "colab": {}
      },
      "source": [
        "import boto3\n",
        "from config import ACCESS_ID, ACCESS_KEY, BUCKET_NAME\n",
        "\n",
        "# Use Amazon S3\n",
        "s3 = boto3.resource('s3', aws_access_key_id=ACCESS_ID, aws_secret_access_key= ACCESS_KEY)\n",
        "bucket_name = BUCKET_NAME\n",
        "\n",
        "# Bucket where csv files are stored.\n",
        "bucket = s3.Bucket(bucket_name)"
      ],
      "execution_count": 0,
      "outputs": []
    },
    {
      "cell_type": "markdown",
      "metadata": {
        "id": "tViP-DZafv87",
        "colab_type": "text"
      },
      "source": [
        "## Read in data from S3 bucket and load into Spark dataframes"
      ]
    },
    {
      "cell_type": "code",
      "metadata": {
        "id": "FcdlBhToiT_g",
        "colab_type": "code",
        "colab": {}
      },
      "source": [
        "# Read in data from S3 bucket\n",
        "from pyspark import SparkFiles\n",
        "import pandas as pd\n",
        "\n",
        "bucket_name = BUCKET_NAME\n",
        "original_dataframes = {}\n",
        "\n",
        "for file in bucket.objects.all():\n",
        "  key = file.key\n",
        "  key_without_extension = key[:-4]\n",
        "  year = key_without_extension[-4:]\n",
        "  url=f\"https://{bucket_name}.s3.amazonaws.com/{key}\"\n",
        "  spark.sparkContext.addFile(url)\n",
        "  #original_dataframes[year] = spark.read.csv(SparkFiles.get(key), sep=\",\", header=True, inferSchema=True)\n",
        "  original_dataframes[year] = pd.read_csv(url)\n",
        "\n",
        "# Show DataFrame\n",
        "original_dataframes[\"2019\"].head()\n",
        "# original_dataframes[\"2019\"].show(n=5)\n",
        "# original_dataframes[\"2018\"].show(n=5)\n",
        "# original_dataframes[\"2017\"].show(n=5)\n",
        "# original_dataframes[\"2016\"].show(n=5)\n",
        "#original_dataframes[\"2014\"].show(n=5)"
      ],
      "execution_count": 0,
      "outputs": []
    },
    {
      "cell_type": "markdown",
      "metadata": {
        "id": "5ji42yEvmTLA",
        "colab_type": "text"
      },
      "source": [
        "**Transform**\n"
      ]
    },
    {
      "cell_type": "markdown",
      "metadata": {
        "id": "p4y_8yKvLatA",
        "colab_type": "text"
      },
      "source": [
        "2019 Survey Data"
      ]
    },
    {
      "cell_type": "code",
      "metadata": {
        "id": "MCl7BiW5Y2wT",
        "colab_type": "code",
        "colab": {}
      },
      "source": [
        "#import dependencies\n",
        "import pandas as pd\n",
        "import numpy as np\n",
        "\n",
        "#convert 2019 dataframe to pandas dataframe for transformation\n",
        "#nineteen_pandas_df = original_dataframes[\"2019\"].toPandas() \n",
        "nineteen_pandas_df = original_dataframes[\"2019\"]\n",
        "nineteen_pandas_df.head()"
      ],
      "execution_count": 0,
      "outputs": []
    },
    {
      "cell_type": "code",
      "metadata": {
        "id": "JbWHiNoHj9RV",
        "colab_type": "code",
        "colab": {}
      },
      "source": [
        "#filter out self-employeed \n",
        "nineteen_filtered_df = nineteen_pandas_df.loc[nineteen_pandas_df['*Are you self-employed?*'] == False]\n",
        "#nineteen_filtered_df.head()"
      ],
      "execution_count": 0,
      "outputs": []
    },
    {
      "cell_type": "code",
      "metadata": {
        "id": "VSEXZWqldieh",
        "colab_type": "code",
        "colab": {}
      },
      "source": [
        "#Drop unwanted columns\n",
        "nineteen_df = nineteen_filtered_df.drop(columns=['*Are you self-employed?*',\n",
        "                 'Is your primary role within your company related to tech/IT?',\n",
        "                 'Do you have medical coverage (private insurance or state-provided) that includes treatment of mental health disorders?',\n",
        "                 'Do you know local or online resources to seek help for a mental health issue?',\n",
        "                 'If you have been diagnosed or treated for a mental health disorder, do you ever reveal this to clients or business contacts?',\n",
        "                 'If you have revealed a mental health disorder to a client or business contact, how has this affected you or the relationship?',\n",
        "                 'If you have been diagnosed or treated for a mental health disorder, do you ever reveal this to coworkers or employees?',\n",
        "                 'If you have revealed a mental health disorder to a coworker or employee, how has this impacted you or the relationship?',\n",
        "                 'Do you believe your productivity is ever affected by a mental health issue?',\n",
        "                 'If yes, what percentage of your work time (time performing primary or secondary job functions) is affected by a mental health issue?',\n",
        "                 '*What disorder(s) have you been diagnosed with?*',\n",
        "                 '*If possibly, what disorder(s) do you believe you have?*',\n",
        "                 '*If so, what disorder(s) were you diagnosed with?*',\n",
        "                 'Has being identified as a person with a mental health issue affected your career?',\n",
        "                 'How has it affected your career?',\n",
        "                 'Would you be willing to talk to one of us more extensively about your experiences with mental health issues in the tech industry? (Note that all interview responses would be used _anonymously_ and only with your permission.)',\n",
        "                 'What US state or territory do you *live* in?',\n",
        "                 'What US state or territory do you *work* in?'])\n",
        "\n",
        "#nineteen_df.head()"
      ],
      "execution_count": 0,
      "outputs": []
    },
    {
      "cell_type": "code",
      "metadata": {
        "id": "KiTINhf9hPi2",
        "colab_type": "code",
        "colab": {}
      },
      "source": [
        "#split dataframe into survey and demographics\n",
        "dfs = np.split(nineteen_df, [59], axis=1)\n",
        "nineteen_survey_df = dfs[0]\n",
        "nineteen_demographics_df = dfs[1]\n",
        "#nineteen_survey_df.head()"
      ],
      "execution_count": 0,
      "outputs": []
    },
    {
      "cell_type": "code",
      "metadata": {
        "id": "fakUMu1WhcmC",
        "colab_type": "code",
        "colab": {}
      },
      "source": [
        "#Rename survey columns\n",
        "nineteen_survey_df.columns = [\"number_employees\",\n",
        "               \"is_tech_company\",\n",
        "               \"employer_provides_mental_health_benefits\",\n",
        "               \"knows_options_available\",\n",
        "               \"employer_formally_discussed_mental_health\",\n",
        "               \"employer_offers_resources\",\n",
        "               \"is_anonymity_protected_by_employer\",\n",
        "               \"level_difficulty_asking_for_leave\",\n",
        "               \"comfortable_talking_physical_mental_coworkers\",\n",
        "               \"comfortable_discussing_with_supervisor\",\n",
        "               \"has_discussed_with_employer\",\n",
        "               \"conversation_with_employer\",\n",
        "               \"comfortable_discussing_with_coworkers\",\n",
        "               \"has_discussed_with_coworkers\",\n",
        "               \"conversation_with_coworkers\",\n",
        "               \"had_coworker_discuss_mental_health\",\n",
        "               \"conversation_coworker_had\",\n",
        "               \"employer_physical_health_importance\",\n",
        "               \"employer_mental_health_importance\",\n",
        "               \"has_previous_employers\",\n",
        "               \"is_previous_employer_tech_company\",\n",
        "               \"previous_employer_provided_mental_health_benefits\",\n",
        "               \"aware_options_from_previous_employer\",\n",
        "               \"previous_employer_formally_discussed_mental_health\",\n",
        "               \"previous_employer_offered_resources\",\n",
        "               \"is_anonymity_protected_by_previous_employer\",\n",
        "               \"comfortable_talking_physical_mental_previous_employer\",\n",
        "               \"comfortable_discussing_with_previous_supervisor\",\n",
        "               \"has_discussed_with_previous_employer\",\n",
        "               \"conversation_with_previous_employer\",\n",
        "               \"willing_discuss_with_previous_coworkers\",\n",
        "               \"has_discussed_with_previous_coworkers\",\n",
        "               \"conversation_with_previous_coworkers\",\n",
        "               \"had_previous_coworker_discuss_mental_health\",\n",
        "               \"conversation_previous_coworker_had\",\n",
        "               \"previous_employer_physical_health_importance\",\n",
        "               \"previous_employer_mental_health_importance\",\n",
        "               \"currently_has_mental_health_disorder\",\n",
        "               \"has_been_diagnosed\",\n",
        "               \"had_disorder_in_past\",\n",
        "               \"sought_treatment_for_mental_health\",\n",
        "               \"has_family_history\",\n",
        "               \"interferes_with_work_treated\",\n",
        "               \"interferes_with_work_not_treated\",\n",
        "               \"observations_of_others\",\n",
        "               \"willingness_to_share\",\n",
        "               \"physical_health_in_interview\",\n",
        "               \"comments_physical_health_in_interview\",\n",
        "               \"mental_health_in_interview\",\n",
        "               \"comments_mental_health_in_interview\",\n",
        "               \"is_openly_identified\",\n",
        "               \"how_think_coworkers_would_react\",\n",
        "               \"experienced_unsupportive_response\",\n",
        "               \"comments_unsupportive_response\",\n",
        "               \"experienced_supportive_response\",\n",
        "               \"comments_supportive_response\",\n",
        "               \"tech_industry_level_support\",\n",
        "               \"comments_improve_mental_health_support\",\n",
        "               \"additional_comments\"]\n",
        "\n",
        "#nineteen_survey_df.head()"
      ],
      "execution_count": 0,
      "outputs": []
    },
    {
      "cell_type": "code",
      "metadata": {
        "id": "iViQHbMTmi9l",
        "colab_type": "code",
        "colab": {}
      },
      "source": [
        "#add blank columns and year\n",
        "nineteen_survey_df[\"interferes_with_work\"] = \"\"\n",
        "nineteen_survey_df[\"discussing_mental_health_has_consequences\"] = \"\"\n",
        "nineteen_survey_df[\"discussing_physical_health_has_consequences\"] = \"\"\n",
        "nineteen_survey_df[\"employer_takes_mental_seriously_as_physical\"] = \"\"\n",
        "nineteen_survey_df[\"observed_consequences_for_coworkers\"] = \"\"\n",
        "nineteen_survey_df[\"discussing_mental_has_consequences_previous_employer\"] = \"\"\n",
        "nineteen_survey_df[\"discussiong_physical_has_consequences_previous_employer\"] = \"\"\n",
        "nineteen_survey_df[\"previous_employer_took_mental_seriously_as_physical\"] = \"\"\n",
        "nineteen_survey_df[\"observed_consequences_for_previous_coworkers\"] = \"\"\n",
        "nineteen_survey_df[\"feels_mental_health_hurts_career\"] = \"\"\n",
        "nineteen_survey_df[\"thinks_coworkers_view_negatively\"] = \"\"\n",
        "nineteen_survey_df[\"year\"] = \"2019\"\n",
        "#nineteen_survey_df.head()"
      ],
      "execution_count": 0,
      "outputs": []
    },
    {
      "cell_type": "code",
      "metadata": {
        "id": "osHPCyUyECvW",
        "colab_type": "code",
        "colab": {}
      },
      "source": [
        "#move year to beginning of dataframe\n",
        "cols2 = list(nineteen_survey_df.columns)\n",
        "cols2 = [cols2[-1]] + cols2[:-1]\n",
        "nineteen_survey_df = nineteen_survey_df[cols2]\n",
        "nineteen_survey_df.head()"
      ],
      "execution_count": 0,
      "outputs": []
    },
    {
      "cell_type": "code",
      "metadata": {
        "id": "2P3Z-RR-7uSC",
        "colab_type": "code",
        "colab": {}
      },
      "source": [
        "#rename 2019 demographics columns\n",
        "nineteen_demographics_df.columns = [\n",
        "               \"age\",\n",
        "               \"gender\",\n",
        "               \"country_living_in\",\n",
        "               \"race\",\n",
        "               \"country_working_in\"]\n",
        "\n",
        "#nineteen_demographics_df.head()"
      ],
      "execution_count": 0,
      "outputs": []
    },
    {
      "cell_type": "code",
      "metadata": {
        "id": "wPxqslywiwwT",
        "colab_type": "code",
        "colab": {}
      },
      "source": [
        "#Add blank column for working remotely \n",
        "nineteen_demographics_df[\"works_remotely\"] = \"\"\n",
        "nineteen_demographics_df.head()"
      ],
      "execution_count": 0,
      "outputs": []
    },
    {
      "cell_type": "markdown",
      "metadata": {
        "id": "ocxhoC6FLQhM",
        "colab_type": "text"
      },
      "source": [
        "2018 Survey Data"
      ]
    },
    {
      "cell_type": "code",
      "metadata": {
        "id": "PA_d8Xc_gZJi",
        "colab_type": "code",
        "colab": {}
      },
      "source": [
        "#convert 2018 dataframe to pandas dataframe for transformation\n",
        "#eighteen_pandas_df = original_dataframes[\"2018\"].toPandas() \n",
        "eighteen_pandas_df = original_dataframes[\"2018\"]\n",
        "eighteen_pandas_df.head()"
      ],
      "execution_count": 0,
      "outputs": []
    },
    {
      "cell_type": "code",
      "metadata": {
        "id": "rCnYg0sEnEpB",
        "colab_type": "code",
        "colab": {}
      },
      "source": [
        "#filter out self-employeed \n",
        "eighteen_filtered_df = eighteen_pandas_df.loc[eighteen_pandas_df['<strong>Are you self-employed?</strong>'] == 0]\n",
        "#eighteen_filtered_df.head()"
      ],
      "execution_count": 0,
      "outputs": []
    },
    {
      "cell_type": "code",
      "metadata": {
        "id": "zvjhA0UIr1B9",
        "colab_type": "code",
        "colab": {}
      },
      "source": [
        " eighteen_df = eighteen_filtered_df.drop(columns=['#',\n",
        "                                                '<strong>Are you self-employed?</strong>',\n",
        "                                                'Is your primary role within your company related to tech/IT?',\n",
        "                                                'Do you have medical coverage (private insurance or state-provided) that includes treatment of mental health disorders?',\n",
        "                                                'Do you know local or online resources to seek help for a mental health issue?',\n",
        "                                                '<strong>If you have been diagnosed or treated for a mental health disorder, do you ever reveal this to clients or business contacts?</strong>',\n",
        "                                                'If you have revealed a mental health disorder to a client or business contact, how has this affected you or the relationship?',\n",
        "                                                '<strong>If you have been diagnosed or treated for a mental health disorder, do you ever reveal this to coworkers or employees?</strong>',\n",
        "                                                'If you have revealed a mental health disorder to a coworker or employee, how has this impacted you or the relationship?',\n",
        "                                                'Do you believe your productivity is ever affected by a mental health issue?',\n",
        "                                                'If yes, what percentage of your work time (time performing primary or secondary job functions) is affected by a mental health issue?',\n",
        "                                                'Anxiety Disorder (Generalized, Social, Phobia, etc)',\n",
        "                                                'Mood Disorder (Depression, Bipolar Disorder, etc)',\n",
        "                                                'Psychotic Disorder (Schizophrenia, Schizoaffective, etc)', \n",
        "                                                'Eating Disorder (Anorexia, Bulimia, etc)', \n",
        "                                                'Attention Deficit Hyperactivity Disorder', \n",
        "                                                'Personality Disorder (Borderline, Antisocial, Paranoid, etc)', \n",
        "                                                'Obsessive-Compulsive Disorder',\n",
        "                                                'Post-Traumatic Stress Disorder',\n",
        "                                                'Stress Response Syndromes',\n",
        "                                                'Dissociative Disorder',\n",
        "                                                'Substance Use Disorder',\n",
        "                                                'Addictive Disorder',\n",
        "                                                'Other',\n",
        "                                                'Anxiety Disorder (Generalized, Social, Phobia, etc).1',\n",
        "                                                'Mood Disorder (Depression, Bipolar Disorder, etc).1',\n",
        "                                                'Psychotic Disorder (Schizophrenia, Schizoaffective, etc).1',\n",
        "                                                'Eating Disorder (Anorexia, Bulimia, etc).1',\n",
        "                                                'Attention Deficit Hyperactivity Disorder.1',\n",
        "                                                'Personality Disorder (Borderline, Antisocial, Paranoid, etc).1',\n",
        "                                                'Obsessive-Compulsive Disorder.1',\n",
        "                                                'Post-traumatic Stress Disorder',\n",
        "                                                'Stress Response Syndromes.1',\n",
        "                                                'Dissociative Disorder.1',\n",
        "                                                'Substance Use Disorder.1',\n",
        "                                                'Addictive Disorder.1',\n",
        "                                                'Other.1',\n",
        "                                                'Anxiety Disorder (Generalized, Social, Phobia, etc).2',\n",
        "                                                'Mood Disorder (Depression, Bipolar Disorder, etc).2',\n",
        "                                                'Psychotic Disorder (Schizophrenia, Schizoaffective, etc).2',\n",
        "                                                'Eating Disorder (Anorexia, Bulimia, etc).2',\n",
        "                                                'Attention Deficit Hyperactivity Disorder.2',\n",
        "                                                'Personality Disorder (Borderline, Antisocial, Paranoid, etc).2',\n",
        "                                                'Obsessive-Compulsive Disorder.2',\n",
        "                                                'Post-traumatic Stress Disorder.1',\n",
        "                                                'Stress Response Syndromes.2',\n",
        "                                                'Dissociative Disorder.2',\n",
        "                                                'Substance Use Disorder.2',\n",
        "                                                'Addictive Disorder.2',\n",
        "                                                'Other.2',\n",
        "                                                'Has being identified as a person with a mental health issue affected your career?',\n",
        "                                                'How has it affected your career?',\n",
        "                                                'Would you be willing to talk to one of us more extensively about your experiences with mental health issues in the tech industry? (Note that all interview responses would be used <em>anonymously</em> and only with your permission.)',\n",
        "                                                'What US state or territory do you <strong>live</strong> in?',\n",
        "                                                'Other.3',\n",
        "                                                'What US state or territory do you <strong>work</strong> in?',\n",
        "                                                'Start Date (UTC)',\n",
        "                                                'Submit Date (UTC)',\n",
        "                                                'Network ID'\n",
        "                                                ])\n",
        " #eighteen_df.head()"
      ],
      "execution_count": 0,
      "outputs": []
    },
    {
      "cell_type": "code",
      "metadata": {
        "id": "XPXVscHaxMzD",
        "colab_type": "code",
        "colab": {}
      },
      "source": [
        "#split dataframe into survey and demographics\n",
        "dfs = np.split(eighteen_df, [59], axis=1)\n",
        "eighteen_survey_df = dfs[0]\n",
        "eighteen_demographics_df = dfs[1]\n",
        "#eighteen_survey_df.head()"
      ],
      "execution_count": 0,
      "outputs": []
    },
    {
      "cell_type": "code",
      "metadata": {
        "id": "CarEe1r6xM9b",
        "colab_type": "code",
        "colab": {}
      },
      "source": [
        "#Rename survey columns\n",
        "eighteen_survey_df.columns = [\"number_employees\",\n",
        "               \"is_tech_company\",\n",
        "               \"employer_provides_mental_health_benefits\",\n",
        "               \"knows_options_available\",\n",
        "               \"employer_formally_discussed_mental_health\",\n",
        "               \"employer_offers_resources\",\n",
        "               \"is_anonymity_protected_by_employer\",\n",
        "               \"level_difficulty_asking_for_leave\",\n",
        "               \"comfortable_talking_physical_mental_coworkers\",\n",
        "               \"comfortable_discussing_with_supervisor\",\n",
        "               \"has_discussed_with_employer\",\n",
        "               \"conversation_with_employer\",\n",
        "               \"comfortable_discussing_with_coworkers\",\n",
        "               \"has_discussed_with_coworkers\",\n",
        "               \"conversation_with_coworkers\",\n",
        "               \"had_coworker_discuss_mental_health\",\n",
        "               \"conversation_coworker_had\",\n",
        "               \"employer_physical_health_importance\",\n",
        "               \"employer_mental_health_importance\",\n",
        "               \"has_previous_employers\",\n",
        "               \"is_previous_employer_tech_company\",\n",
        "               \"previous_employer_provided_mental_health_benefits\",\n",
        "               \"aware_options_from_previous_employer\",\n",
        "               \"previous_employer_formally_discussed_mental_health\",\n",
        "               \"previous_employer_offered_resources\",\n",
        "               \"is_anonymity_protected_by_previous_employer\",\n",
        "               \"comfortable_talking_physical_mental_previous_employer\",\n",
        "               \"comfortable_discussing_with_previous_supervisor\",\n",
        "               \"has_discussed_with_previous_employer\",\n",
        "               \"conversation_with_previous_employer\",\n",
        "               \"willing_discuss_with_previous_coworkers\",\n",
        "               \"has_discussed_with_previous_coworkers\",\n",
        "               \"conversation_with_previous_coworkers\",\n",
        "               \"had_previous_coworker_discuss_mental_health\",\n",
        "               \"conversation_previous_coworker_had\",\n",
        "               \"previous_employer_physical_health_importance\",\n",
        "               \"previous_employer_mental_health_importance\",\n",
        "               \"currently_has_mental_health_disorder\",\n",
        "               \"has_been_diagnosed\",\n",
        "               \"had_disorder_in_past\",\n",
        "               \"sought_treatment_for_mental_health\",\n",
        "               \"has_family_history\",\n",
        "               \"interferes_with_work_treated\",\n",
        "               \"interferes_with_work_not_treated\",\n",
        "               \"observations_of_others\",\n",
        "               \"willingness_to_share\",\n",
        "               \"physical_health_in_interview\",\n",
        "               \"comments_physical_health_in_interview\",\n",
        "               \"mental_health_in_interview\",\n",
        "               \"comments_mental_health_in_interview\",\n",
        "               \"is_openly_identified\",\n",
        "               \"how_think_coworkers_would_react\",\n",
        "               \"experienced_unsupportive_response\",\n",
        "               \"comments_unsupportive_response\",\n",
        "               \"experienced_supportive_response\",\n",
        "               \"comments_supportive_response\",\n",
        "               \"tech_industry_level_support\",\n",
        "               \"comments_improve_mental_health_support\",\n",
        "               \"additional_comments\"]\n",
        "\n",
        "#eighteen_survey_df.head()"
      ],
      "execution_count": 0,
      "outputs": []
    },
    {
      "cell_type": "code",
      "metadata": {
        "id": "_r70TF5hxNGJ",
        "colab_type": "code",
        "colab": {}
      },
      "source": [
        "#add blank columns and year\n",
        "eighteen_survey_df[\"interferes_with_work\"] = \"\"\n",
        "eighteen_survey_df[\"discussing_mental_health_has_consequences\"] = \"\"\n",
        "eighteen_survey_df[\"discussing_physical_health_has_consequences\"] = \"\"\n",
        "eighteen_survey_df[\"employer_takes_mental_seriously_as_physical\"] = \"\"\n",
        "eighteen_survey_df[\"observed_consequences_for_coworkers\"] = \"\"\n",
        "eighteen_survey_df[\"discussing_mental_has_consequences_previous_employer\"] = \"\"\n",
        "eighteen_survey_df[\"discussiong_physical_has_consequences_previous_employer\"] = \"\"\n",
        "eighteen_survey_df[\"previous_employer_took_mental_seriously_as_physical\"] = \"\"\n",
        "eighteen_survey_df[\"observed_consequences_for_previous_coworkers\"] = \"\"\n",
        "eighteen_survey_df[\"feels_mental_health_hurts_career\"] = \"\"\n",
        "eighteen_survey_df[\"thinks_coworkers_view_negatively\"] = \"\"\n",
        "eighteen_survey_df[\"year\"] = \"2018\"\n",
        "eighteen_survey_df.head()"
      ],
      "execution_count": 0,
      "outputs": []
    },
    {
      "cell_type": "code",
      "metadata": {
        "id": "8yOE-EO9Eqzk",
        "colab_type": "code",
        "colab": {}
      },
      "source": [
        "#move year to beginning of dataframe\n",
        "cols3 = list(eighteen_survey_df.columns)\n",
        "cols3 = [cols3[-1]] + cols3[:-1]\n",
        "eighteen_survey_df = eighteen_survey_df[cols3]\n",
        "eighteen_survey_df.head()"
      ],
      "execution_count": 0,
      "outputs": []
    },
    {
      "cell_type": "code",
      "metadata": {
        "id": "n_PYv6e1xNNk",
        "colab_type": "code",
        "colab": {}
      },
      "source": [
        "#rename 2018 demographics columns\n",
        "eighteen_demographics_df.columns = [\n",
        "               \"age\",\n",
        "               \"gender\",\n",
        "               \"country_living_in\",\n",
        "               \"race\",\n",
        "               \"country_working_in\"]\n",
        "\n",
        "#eighteen_demographics_df.head()"
      ],
      "execution_count": 0,
      "outputs": []
    },
    {
      "cell_type": "code",
      "metadata": {
        "id": "wD-Jrt7vxNTO",
        "colab_type": "code",
        "colab": {}
      },
      "source": [
        "#Add blank column for working remotely \n",
        "eighteen_demographics_df[\"works_remotely\"] = \"\"\n",
        "eighteen_demographics_df.head()"
      ],
      "execution_count": 0,
      "outputs": []
    },
    {
      "cell_type": "markdown",
      "metadata": {
        "id": "PZ4zaJA-LKRK",
        "colab_type": "text"
      },
      "source": [
        "2017 Survey Data"
      ]
    },
    {
      "cell_type": "code",
      "metadata": {
        "id": "BZsR6be7xNbx",
        "colab_type": "code",
        "colab": {}
      },
      "source": [
        "#convert 2017 dataframe to pandas dataframe for transformation\n",
        "#seventeen_pandas_df = original_dataframes[\"2017\"].toPandas() \n",
        "seventeen_pandas_df = original_dataframes[\"2017\"]\n",
        "seventeen_pandas_df.head(2)"
      ],
      "execution_count": 0,
      "outputs": []
    },
    {
      "cell_type": "code",
      "metadata": {
        "id": "hEsaLd-XoUxJ",
        "colab_type": "code",
        "colab": {}
      },
      "source": [
        "#filter out self-employeed \n",
        "seventeen_filtered_df = seventeen_pandas_df.loc[seventeen_pandas_df['<strong>Are you self-employed?</strong>'] == 0]\n",
        "#seventeen_filtered_df.head()"
      ],
      "execution_count": 0,
      "outputs": []
    },
    {
      "cell_type": "code",
      "metadata": {
        "id": "8wG_uEBcy6Ol",
        "colab_type": "code",
        "colab": {}
      },
      "source": [
        "seventeen_df = seventeen_filtered_df.drop(columns=['#',\n",
        "                                                '<strong>Are you self-employed?</strong>',\n",
        "                                                'Is your primary role within your company related to tech/IT?',\n",
        "                                                'Do you have medical coverage (private insurance or state-provided) that includes treatment of mental health disorders?',\n",
        "                                                'Do you know local or online resources to seek help for a mental health issue?',\n",
        "                                                '<strong>If you have been diagnosed or treated for a mental health disorder, do you ever reveal this to clients or business contacts?</strong>',\n",
        "                                                'If you have revealed a mental health disorder to a client or business contact, how has this affected you or the relationship?',\n",
        "                                                '<strong>If you have been diagnosed or treated for a mental health disorder, do you ever reveal this to coworkers or employees?</strong>',\n",
        "                                                'If you have revealed a mental health disorder to a coworker or employee, how has this impacted you or the relationship?',\n",
        "                                                'Do you believe your productivity is ever affected by a mental health issue?',\n",
        "                                                'If yes, what percentage of your work time (time performing primary or secondary job functions) is affected by a mental health issue?',\n",
        "                                                'Anxiety Disorder (Generalized, Social, Phobia, etc)',\n",
        "                                                'Mood Disorder (Depression, Bipolar Disorder, etc)',\n",
        "                                                'Psychotic Disorder (Schizophrenia, Schizoaffective, etc)', \n",
        "                                                'Eating Disorder (Anorexia, Bulimia, etc)', \n",
        "                                                'Attention Deficit Hyperactivity Disorder', \n",
        "                                                'Personality Disorder (Borderline, Antisocial, Paranoid, etc)', \n",
        "                                                'Obsessive-Compulsive Disorder',\n",
        "                                                'Post-Traumatic Stress Disorder',\n",
        "                                                'Stress Response Syndromes',\n",
        "                                                'Dissociative Disorder',\n",
        "                                                'Substance Use Disorder',\n",
        "                                                'Addictive Disorder',\n",
        "                                                'Other',\n",
        "                                                'Anxiety Disorder (Generalized, Social, Phobia, etc).1',\n",
        "                                                'Mood Disorder (Depression, Bipolar Disorder, etc).1',\n",
        "                                                'Psychotic Disorder (Schizophrenia, Schizoaffective, etc).1',\n",
        "                                                'Eating Disorder (Anorexia, Bulimia, etc).1',\n",
        "                                                'Attention Deficit Hyperactivity Disorder.1',\n",
        "                                                'Personality Disorder (Borderline, Antisocial, Paranoid, etc).1',\n",
        "                                                'Obsessive-Compulsive Disorder.1',\n",
        "                                                'Post-traumatic Stress Disorder',\n",
        "                                                'Stress Response Syndromes.1',\n",
        "                                                'Dissociative Disorder.1',\n",
        "                                                'Substance Use Disorder.1',\n",
        "                                                'Addictive Disorder.1',\n",
        "                                                'Other.1',\n",
        "                                                'Anxiety Disorder (Generalized, Social, Phobia, etc).2',\n",
        "                                                'Mood Disorder (Depression, Bipolar Disorder, etc).2',\n",
        "                                                'Psychotic Disorder (Schizophrenia, Schizoaffective, etc).2',\n",
        "                                                'Eating Disorder (Anorexia, Bulimia, etc).2',\n",
        "                                                'Attention Deficit Hyperactivity Disorder.2',\n",
        "                                                'Personality Disorder (Borderline, Antisocial, Paranoid, etc).2',\n",
        "                                                'Obsessive-Compulsive Disorder.2',\n",
        "                                                'Post-traumatic Stress Disorder.1',\n",
        "                                                'Stress Response Syndromes.2',\n",
        "                                                'Dissociative Disorder.2',\n",
        "                                                'Substance Use Disorder.2',\n",
        "                                                'Addictive Disorder.2',\n",
        "                                                'Other.2',\n",
        "                                                'Has being identified as a person with a mental health issue affected your career?',\n",
        "                                                'How has it affected your career?',\n",
        "                                                'What US state or territory do you <strong>live</strong> in?',\n",
        "                                                'Other.3',\n",
        "                                                'What US state or territory do you <strong>work</strong> in?',\n",
        "                                                'Start Date (UTC)',\n",
        "                                                'Submit Date (UTC)',\n",
        "                                                'Network ID'\n",
        "                                                ])\n",
        "#seventeen_df.head()"
      ],
      "execution_count": 0,
      "outputs": []
    },
    {
      "cell_type": "code",
      "metadata": {
        "id": "7bB4yW32y6SC",
        "colab_type": "code",
        "colab": {}
      },
      "source": [
        "#split dataframe into survey and demographics\n",
        "dfs = np.split(seventeen_df, [59], axis=1)\n",
        "seventeen_survey_df = dfs[0]\n",
        "seventeen_demographics_df = dfs[1]\n",
        "#seventeen_survey_df.head()"
      ],
      "execution_count": 0,
      "outputs": []
    },
    {
      "cell_type": "code",
      "metadata": {
        "id": "JKBCJyNFy6ay",
        "colab_type": "code",
        "colab": {}
      },
      "source": [
        "#Rename survey columns\n",
        "seventeen_survey_df.columns = [\"number_employees\",\n",
        "               \"is_tech_company\",\n",
        "               \"employer_provides_mental_health_benefits\",\n",
        "               \"knows_options_available\",\n",
        "               \"employer_formally_discussed_mental_health\",\n",
        "               \"employer_offers_resources\",\n",
        "               \"is_anonymity_protected_by_employer\",\n",
        "               \"level_difficulty_asking_for_leave\",\n",
        "               \"comfortable_talking_physical_mental_coworkers\",\n",
        "               \"comfortable_discussing_with_supervisor\",\n",
        "               \"has_discussed_with_employer\",\n",
        "               \"conversation_with_employer\",\n",
        "               \"comfortable_discussing_with_coworkers\",\n",
        "               \"has_discussed_with_coworkers\",\n",
        "               \"conversation_with_coworkers\",\n",
        "               \"had_coworker_discuss_mental_health\",\n",
        "               \"conversation_coworker_had\",\n",
        "               \"employer_physical_health_importance\",\n",
        "               \"employer_mental_health_importance\",\n",
        "               \"has_previous_employers\",\n",
        "               \"is_previous_employer_tech_company\",\n",
        "               \"previous_employer_provided_mental_health_benefits\",\n",
        "               \"aware_options_from_previous_employer\",\n",
        "               \"previous_employer_formally_discussed_mental_health\",\n",
        "               \"previous_employer_offered_resources\",\n",
        "               \"is_anonymity_protected_by_previous_employer\",\n",
        "               \"comfortable_talking_physical_mental_previous_employer\",\n",
        "               \"comfortable_discussing_with_previous_supervisor\",\n",
        "               \"has_discussed_with_previous_employer\",\n",
        "               \"conversation_with_previous_employer\",\n",
        "               \"willing_discuss_with_previous_coworkers\",\n",
        "               \"has_discussed_with_previous_coworkers\",\n",
        "               \"conversation_with_previous_coworkers\",\n",
        "               \"had_previous_coworker_discuss_mental_health\",\n",
        "               \"conversation_previous_coworker_had\",\n",
        "               \"previous_employer_physical_health_importance\",\n",
        "               \"previous_employer_mental_health_importance\",\n",
        "               \"currently_has_mental_health_disorder\",\n",
        "               \"has_been_diagnosed\",\n",
        "               \"had_disorder_in_past\",\n",
        "               \"sought_treatment_for_mental_health\",\n",
        "               \"has_family_history\",\n",
        "               \"interferes_with_work_treated\",\n",
        "               \"interferes_with_work_not_treated\",\n",
        "               \"observations_of_others\",\n",
        "               \"willingness_to_share\",\n",
        "               \"physical_health_in_interview\",\n",
        "               \"comments_physical_health_in_interview\",\n",
        "               \"mental_health_in_interview\",\n",
        "               \"comments_mental_health_in_interview\",\n",
        "               \"is_openly_identified\",\n",
        "               \"how_think_coworkers_would_react\",\n",
        "               \"experienced_unsupportive_response\",\n",
        "               \"comments_unsupportive_response\",\n",
        "               \"experienced_supportive_response\",\n",
        "               \"comments_supportive_response\",\n",
        "               \"tech_industry_level_support\",\n",
        "               \"comments_improve_mental_health_support\",\n",
        "               \"additional_comments\"]\n",
        "\n",
        "#seventeen_survey_df.head()"
      ],
      "execution_count": 0,
      "outputs": []
    },
    {
      "cell_type": "code",
      "metadata": {
        "id": "tWAj2CTJy6dv",
        "colab_type": "code",
        "colab": {}
      },
      "source": [
        "#add blank columns and year\n",
        "seventeen_survey_df[\"interferes_with_work\"] = \"\"\n",
        "seventeen_survey_df[\"discussing_mental_health_has_consequences\"] = \"\"\n",
        "seventeen_survey_df[\"discussing_physical_health_has_consequences\"] = \"\"\n",
        "seventeen_survey_df[\"employer_takes_mental_seriously_as_physical\"] = \"\"\n",
        "seventeen_survey_df[\"observed_consequences_for_coworkers\"] = \"\"\n",
        "seventeen_survey_df[\"discussing_mental_has_consequences_previous_employer\"] = \"\"\n",
        "seventeen_survey_df[\"discussiong_physical_has_consequences_previous_employer\"] = \"\"\n",
        "seventeen_survey_df[\"previous_employer_took_mental_seriously_as_physical\"] = \"\"\n",
        "seventeen_survey_df[\"observed_consequences_for_previous_coworkers\"] = \"\"\n",
        "seventeen_survey_df[\"feels_mental_health_hurts_career\"] = \"\"\n",
        "seventeen_survey_df[\"thinks_coworkers_view_negatively\"] = \"\"\n",
        "seventeen_survey_df[\"year\"] = \"2017\"\n",
        "#seventeen_survey_df.head()"
      ],
      "execution_count": 0,
      "outputs": []
    },
    {
      "cell_type": "code",
      "metadata": {
        "id": "8EzJI3CUFJue",
        "colab_type": "code",
        "colab": {}
      },
      "source": [
        "#move year to beginning of dataframe\n",
        "cols4 = list(seventeen_survey_df.columns)\n",
        "cols4 = [cols4[-1]] + cols4[:-1]\n",
        "seventeen_survey_df = seventeen_survey_df[cols4]\n",
        "seventeen_survey_df.head()"
      ],
      "execution_count": 0,
      "outputs": []
    },
    {
      "cell_type": "code",
      "metadata": {
        "id": "eqYzQ9cC2DuW",
        "colab_type": "code",
        "colab": {}
      },
      "source": [
        "seventeen_demographics_df.head()\n",
        "#split dataframe into survey and demographics\n",
        "dfs2 = np.split(seventeen_demographics_df, [1], axis=1)\n",
        "seventeen_garbage_df = dfs2[0]\n",
        "seventeen_demographics2_df = dfs2[1]\n",
        "seventeen_demographics2_df.head()\n"
      ],
      "execution_count": 0,
      "outputs": []
    },
    {
      "cell_type": "code",
      "metadata": {
        "id": "e1nDbApFy6hI",
        "colab_type": "code",
        "colab": {}
      },
      "source": [
        "#rename 2017 demographics columns\n",
        "seventeen_demographics2_df.columns = [\n",
        "               \"age\",\n",
        "               \"gender\",\n",
        "               \"country_living_in\",\n",
        "               \"race\",\n",
        "               \"country_working_in\"]\n",
        "\n",
        "seventeen_demographics2_df.head()"
      ],
      "execution_count": 0,
      "outputs": []
    },
    {
      "cell_type": "code",
      "metadata": {
        "id": "tN0jmjn-y6p0",
        "colab_type": "code",
        "colab": {}
      },
      "source": [
        "#Add blank column for working remotely \n",
        "seventeen_demographics2_df[\"works_remotely\"] = \"\"\n",
        "seventeen_demographics2_df.head()"
      ],
      "execution_count": 0,
      "outputs": []
    },
    {
      "cell_type": "markdown",
      "metadata": {
        "id": "ZtNJ7QaaLEcz",
        "colab_type": "text"
      },
      "source": [
        "2016 Survey Data"
      ]
    },
    {
      "cell_type": "code",
      "metadata": {
        "id": "iCORCXcV4ynM",
        "colab_type": "code",
        "colab": {}
      },
      "source": [
        "#convert 2016 dataframe to pandas dataframe for transformation\n",
        "# sixteen_pandas_df = original_dataframes[\"2016\"].toPandas() \n",
        "# sixteen_pandas_df.head(2)"
      ],
      "execution_count": 0,
      "outputs": []
    },
    {
      "cell_type": "code",
      "metadata": {
        "id": "jQV3vi5wpMfq",
        "colab_type": "code",
        "colab": {}
      },
      "source": [
        "#filter out self-employeed \n",
        "#sixteen_filtered_df = sixteen_pandas_df.loc[sixteen_pandas_df['Are you self-employed?'] == \"0\"]\n",
        "#sixteen_filtered_df"
      ],
      "execution_count": 0,
      "outputs": []
    },
    {
      "cell_type": "code",
      "metadata": {
        "id": "SDi7fiO8HpZp",
        "colab_type": "code",
        "colab": {}
      },
      "source": [
        "# #remove columns in 2016 df\n",
        "# sixteen_df = sixteen_filtered_df.drop(columns=['Are you self-employed?',\n",
        "#                                              'Is your primary role within your company related to tech/IT?',\n",
        "#                                              'If you have been diagnosed or treated for a mental health disorder, do you ever reveal this to clients or business contacts?',\n",
        "#                                              'If you have revealed a mental health issue to a client or business contact, do you believe this has impacted you negatively?',\n",
        "#                                              'If you have been diagnosed or treated for a mental health disorder, do you ever reveal this to coworkers or employees?',\n",
        "#                                              'If you have revealed a mental health issue to a coworker or employee, do you believe this has impacted you negatively?',\n",
        "#                                              'Do you believe your productivity is ever affected by a mental health issue?',\n",
        "#                                              'If yes, what percentage of your work time (time performing primary or secondary job functions) is affected by a mental health issue?',\n",
        "#                                              'If yes, what condition(s) have you been diagnosed with?',\n",
        "#                                              'If maybe, what condition(s) do you believe you have?',\n",
        "#                                              'If so, what condition(s) were you diagnosed with?',\n",
        "#                                              'What US state or territory do you live in?',\n",
        "#                                              'What US state or territory do you work in?',\n",
        "#                                              'Which of the following best describes your work position?'\n",
        "#                                              ])\n",
        "# sixteen_df.head(2)\n",
        "                "
      ],
      "execution_count": 0,
      "outputs": []
    },
    {
      "cell_type": "code",
      "metadata": {
        "id": "tzNLxELiVHFB",
        "colab_type": "code",
        "colab": {}
      },
      "source": [
        "#rename columns in 2016 dataframe\n",
        "# sixteen_df.columns = ['number_employees',\n",
        "#                       'is_tech_company',\n",
        "#                       'employer_provides_mental_health_benefits',\n",
        "#                       'knows_options_available',\n",
        "#                       'employer_formally_discussed_mental_health',\n",
        "#                       'employer_offers_resources',\n",
        "#                       'is_anonymity_protected_by_employer',\n",
        "#                       'level_difficulty_asking_for_leave',\n",
        "#                       'discussing_mental_health_has_consequences',\n",
        "#                       'discussing_physical_health_has_consequences',\n",
        "#                       'comfortable_talking_physical_mental_coworkers',\n",
        "#                       'comfortable_discussing_with_supervisor',\n",
        "#                       'employer_takes_mental_seriously_as_physical',\n",
        "#                       'observed_consequences_for_coworkers',\n",
        "#                       'employer_provides_mental_health_benefits2',\n",
        "#                       'employer_offers_resources2',\n",
        "#                       'has_previous_employers',\n",
        "#                       'previous_employer_provided_mental_health_benefits',\n",
        "#                       'aware_options_from_previous_employer',\n",
        "#                       'previous_employer_formally_discussed_mental_health',\n",
        "#                       'previous_employer_offered_resources',\n",
        "#                       'is_anonymity_protected_by_previous_employer',\n",
        "#                       'discussing_mental_health_has_consequences',\n",
        "#                       'discussing_physical_health_has_consequences',\n",
        "#                       'willing_discuss_with_previous_coworkers',\n",
        "#                       'comfortable_discussing_with_previous_supervisor',\n",
        "#                       'employer_takes_mental_seriously_as_physical',\n",
        "#                       'observed_consequences_for_coworkers',\n",
        "#                       'physical_health_in_interview',\n",
        "#                       'comments_physical_health_in_interview',\n",
        "#                       'mental_health_in_interview',\n",
        "#                       'comments_mental_health_in_interview',\n",
        "#                       'feels_mental_health_hurts_career',\n",
        "#                       'thinks_coworkers_view_negatively',\n",
        "#                       'willingness_to_share',\n",
        "#                       'experienced_unsupportive_response',\n",
        "#                       'observations_of_others',\n",
        "#                       'has_family_history',\n",
        "#                       'had_disorder_in_past',\n",
        "#                       'currently_has_mental_health_disorder',\n",
        "#                       'has_been_diagnosed',\n",
        "#                       'sought_treatment_for_mental_health',\n",
        "#                       'interferes_with_work_treated',\n",
        "#                       'interferes_with_work_not_treated',\n",
        "#                       'age',\n",
        "#                       'gender',\n",
        "#                       'country_living_in',\n",
        "#                       'country_working_in',\n",
        "#                       'works_remotely'\n",
        "#                       ]\n",
        "\n",
        "# sixteen_df.head()"
      ],
      "execution_count": 0,
      "outputs": []
    },
    {
      "cell_type": "code",
      "metadata": {
        "id": "VibFlbVzVHKx",
        "colab_type": "code",
        "colab": {}
      },
      "source": [
        "# #adding in blank columns & year\n",
        "# sixteen_df[\"has_discussed_with_employer\"] = \"\"\n",
        "# sixteen_df[\"conversation_with_employer\"] = \"\"\n",
        "# sixteen_df[\"comfortable_discussing_with_coworkers\"] = \"\"\n",
        "# sixteen_df[\"has_discussed_with_coworkers\"] = \"\"\n",
        "# sixteen_df[\"conversation_with_coworkers\"] = \"\"\n",
        "# sixteen_df[\"had_coworker_discuss_mental_health\"] = \"\"\n",
        "# sixteen_df[\"conversation_coworker_had\"] = \"\"\n",
        "# sixteen_df[\"employer_physical_health_importance\"] = \"\"\n",
        "# sixteen_df[\"employer_mental_health_importance\"] = \"\"\n",
        "# sixteen_df[\"is_previous_employer_tech_company\"] = \"\"\n",
        "# sixteen_df[\"comfortable_talking_physical_mental_previous_employer\"] = \"\"\n",
        "# sixteen_df[\"has_discussed_with_previous_employer\"] = \"\"\n",
        "# sixteen_df[\"conversation_with_previous_employer\"] = \"\"\n",
        "# sixteen_df[\"has_discussed_with_previous_coworkers\"] = \"\"\n",
        "# sixteen_df[\"conversation_with_previous_coworkers\"] = \"\"\n",
        "# sixteen_df[\"had_previous_coworker_discuss_mental_health\"] = \"\"\n",
        "# sixteen_df[\"conversation_previous_coworker_had\"] = \"\"\n",
        "# sixteen_df[\"previous_employer_physical_health_importance\"] = \"\"\n",
        "# sixteen_df[\"previous_employer_mental_health_importance\"] = \"\"\n",
        "# sixteen_df[\"is_openly_identified\"] = \"\"\n",
        "# sixteen_df[\"how_think_coworkers_would_react\"] = \"\"\n",
        "# sixteen_df[\"comments_unsupportive_response\"] = \"\"\n",
        "# sixteen_df[\"experienced_supportive_response\"] = \"\"\n",
        "# sixteen_df[\"comments_supportive_response\"] = \"\"\n",
        "# sixteen_df[\"tech_industry_level_support\"] = \"\"\n",
        "# sixteen_df[\"comments_improve_mental_health_support\"] = \"\"\n",
        "# sixteen_df[\"additional_comments\"] = \"\"\n",
        "# sixteen_df[\"interferes_with_work\"] = \"\"\n",
        "# sixteen_df[\"discussing_mental_has_consequences_previous_employer\"] = \"\"\n",
        "# sixteen_df[\"discussiong_physical_has_consequences_previous_employer\"] = \"\"\n",
        "# sixteen_df[\"previous_employer_took_mental_seriously_as_physical\"] = \"\"\n",
        "# sixteen_df[\"observed_consequences_for_previous_coworkers\"] = \"\"\n",
        "# sixteen_df[\"race\"] = \"\"\n",
        "# sixteen_df[\"year\"] = \"2016\"\n",
        "\n",
        "# sixteen_df.head()"
      ],
      "execution_count": 0,
      "outputs": []
    },
    {
      "cell_type": "code",
      "metadata": {
        "id": "DxKfJRAuVHOS",
        "colab_type": "code",
        "colab": {}
      },
      "source": [
        "# sixteen_reordered_df = sixteen_df[['number_employees',\n",
        "#                                      'is_tech_company',\n",
        "#                                      'employer_provides_mental_health_benefits',\n",
        "#                                      'knows_options_available',\n",
        "#                                      'employer_formally_discussed_mental_health',\n",
        "#                                      'employer_offers_resources',\n",
        "#                                      'is_anonymity_protected_by_employer',\n",
        "#                                      'level_difficulty_asking_for_leave',\n",
        "#                                      'comfortable_talking_physical_mental_coworkers',\n",
        "#                                      'comfortable_discussing_with_supervisor',\n",
        "#                                      'has_discussed_with_employer',\n",
        "#                                      'conversation_with_employer',\n",
        "#                                      'comfortable_discussing_with_coworkers',\n",
        "#                                      'has_discussed_with_coworkers',\n",
        "#                                      'conversation_with_coworkers',\n",
        "#                                      'had_coworker_discuss_mental_health',\n",
        "#                                      'conversation_coworker_had',\n",
        "#                                      'employer_physical_health_importance',\n",
        "#                                      'employer_mental_health_importance',\n",
        "#                                      'has_previous_employers',\n",
        "#                                      'is_previous_employer_tech_company',\n",
        "#                                      'previous_employer_provided_mental_health_benefits',\n",
        "#                                      'aware_options_from_previous_employer',\n",
        "#                                      'previous_employer_formally_discussed_mental_health',\n",
        "#                                      'previous_employer_offered_resources',\n",
        "#                                      'is_anonymity_protected_by_previous_employer',\n",
        "#                                      'comfortable_talking_physical_mental_previous_employer',\n",
        "#                                      'comfortable_discussing_with_previous_supervisor',\n",
        "#                                      'has_discussed_with_previous_employer',\n",
        "#                                      'conversation_with_previous_employer',\n",
        "#                                      'willing_discuss_with_previous_coworkers',\n",
        "#                                      'has_discussed_with_previous_coworkers',\n",
        "#                                      'conversation_with_previous_coworkers',\n",
        "#                                      'had_previous_coworker_discuss_mental_health',\n",
        "#                                      'conversation_previous_coworker_had',\n",
        "#                                      'previous_employer_physical_health_importance',\n",
        "#                                      'previous_employer_mental_health_importance',\n",
        "#                                      'currently_has_mental_health_disorder',\n",
        "#                                      'has_been_diagnosed',\n",
        "#                                      'had_disorder_in_past',\n",
        "#                                      'sought_treatment_for_mental_health',\n",
        "#                                      'has_family_history',\n",
        "#                                      'interferes_with_work_treated',\n",
        "#                                      'interferes_with_work_not_treated',\n",
        "#                                      'observations_of_others',\n",
        "#                                      'willingness_to_share',\n",
        "#                                      'physical_health_in_interview',\n",
        "#                                      'comments_physical_health_in_interview',\n",
        "#                                      'mental_health_in_interview',\n",
        "#                                      'comments_mental_health_in_interview',\n",
        "#                                      'is_openly_identified',\n",
        "#                                      'how_think_coworkers_would_react',\n",
        "#                                      'experienced_unsupportive_response',\n",
        "#                                      'comments_unsupportive_response',\n",
        "#                                      'experienced_supportive_response',\n",
        "#                                      'comments_supportive_response',\n",
        "#                                      'tech_industry_level_support',\n",
        "#                                      'comments_improve_mental_health_support',\n",
        "#                                      'additional_comments',\n",
        "#                                      'interferes_with_work',\n",
        "#                                      'discussing_mental_health_has_consequences',\n",
        "#                                      'discussing_physical_health_has_consequences',\n",
        "#                                      'employer_takes_mental_seriously_as_physical',\n",
        "#                                      'observed_consequences_for_coworkers',\n",
        "#                                      'discussing_mental_has_consequences_previous_employer',\n",
        "#                                      'discussiong_physical_has_consequences_previous_employer',\n",
        "#                                      'previous_employer_took_mental_seriously_as_physical',\n",
        "#                                      'observed_consequences_for_previous_coworkers',\n",
        "#                                      'feels_mental_health_hurts_career',\n",
        "#                                      'thinks_coworkers_view_negatively',\n",
        "#                                      'year',\n",
        "#                                      'employer_provides_mental_health2',\n",
        "#                                      'employer_offers_resources2',\n",
        "#                                      'age',\n",
        "#                                      'gender',\n",
        "#                                      'country_living_in',\n",
        "#                                      'race',\n",
        "#                                      'country_working_in',\n",
        "#                                      'works_remotely'\n",
        "#                                      ]]\n",
        "\n",
        "\n",
        "# sixteen_reordered_df.head()"
      ],
      "execution_count": 0,
      "outputs": []
    },
    {
      "cell_type": "code",
      "metadata": {
        "id": "_NEnWvGCVHd0",
        "colab_type": "code",
        "colab": {}
      },
      "source": [
        "#split 2016 data into 2 dataframes\n",
        "#split dataframe into survey and demographics\n",
        "# dfs = np.split(sixteen_reordered_df, [75], axis=1)\n",
        "# sixteen_survey_df = dfs[0]\n",
        "# sixteen_demographics_df = dfs[1]\n",
        "# sixteen_survey_df.head()"
      ],
      "execution_count": 0,
      "outputs": []
    },
    {
      "cell_type": "code",
      "metadata": {
        "id": "vkhnofvMVHbN",
        "colab_type": "code",
        "colab": {}
      },
      "source": [
        "# sixteen_demographics_df.head()\n",
        "# dfs2 = np.split(sixteen_demographics_df, [2], axis=1)\n",
        "# sixteen_garbage_df = dfs2[0]\n",
        "# sixteen_demographics2_df = dfs2[1]\n",
        "# sixteen_demographics2_df.head()"
      ],
      "execution_count": 0,
      "outputs": []
    },
    {
      "cell_type": "markdown",
      "metadata": {
        "id": "QhIsmYlEK2ty",
        "colab_type": "text"
      },
      "source": [
        "2014 Survey Data"
      ]
    },
    {
      "cell_type": "code",
      "metadata": {
        "id": "-OZbb_4a4wp6",
        "colab_type": "code",
        "colab": {}
      },
      "source": [
        "#convert 2014 dataframe to pandas dataframe for transformation\n",
        "#fourteen_pandas_df = original_dataframes[\"2014\"].toPandas() \n",
        "fourteen_pandas_df = original_dataframes[\"2014\"]\n",
        "fourteen_pandas_df.head()"
      ],
      "execution_count": 0,
      "outputs": []
    },
    {
      "cell_type": "code",
      "metadata": {
        "id": "L00c2ej_qLtQ",
        "colab_type": "code",
        "colab": {}
      },
      "source": [
        "#filter out self-employeed \n",
        "fourteen_filtered_df = fourteen_pandas_df.loc[fourteen_pandas_df['Are you self-employed?'] == \"No\"]\n",
        "#fourteen_filtered_df"
      ],
      "execution_count": 0,
      "outputs": []
    },
    {
      "cell_type": "code",
      "metadata": {
        "id": "23L7U8cWN67f",
        "colab_type": "code",
        "colab": {}
      },
      "source": [
        "#remove columns in 2014 df\n",
        "fourteen_df = fourteen_pandas_df.drop(columns=['Are you self-employed?',\n",
        "                                               'If you live in the United States, which state or territory do you live in?',\n",
        "                                               'Timestamp'])\n",
        "#fourteen_df.head()"
      ],
      "execution_count": 0,
      "outputs": []
    },
    {
      "cell_type": "code",
      "metadata": {
        "id": "9RvMomWqpEog",
        "colab_type": "code",
        "colab": {}
      },
      "source": [
        "#rename columns in 2014 dataframe\n",
        "fourteen_df.columns = [\"age\",\n",
        "                              \"gender\",\n",
        "                              \"country_living_in\",\n",
        "                              \"has_family_history\",\n",
        "                              \"sought_treatment_for_mental_health\",\n",
        "                              \"interferes_with_work\",\n",
        "                              \"number_employees\",\n",
        "                              \"works_remotely\",\n",
        "                              \"is_tech_company\",\n",
        "                              \"employer_provides_mental_health_benefits\",\n",
        "                              \"knows_options_available\",\n",
        "                              \"employer_formally_discussed_mental_health\",\n",
        "                              \"employer_offers_resources\",\n",
        "                              \"is_anonymity_protected_by_employer\",\n",
        "                              \"level_difficulty_asking_for_leave\",\n",
        "                              \"discussing_mental_health_has_consequences\",\n",
        "                              \"discussing_physical_health_has_consequences\",\n",
        "                              \"comfortable_discussing_with_coworkers\",\n",
        "                              \"comfortable_discussing_with_supervisor\",\n",
        "                              \"mental_health_in_interview\",\n",
        "                              \"physical_health_in_interview\",\n",
        "                              \"employer_takes_mental_seriously_as_physical\",\n",
        "                              \"observed_consequences_for_coworkers\",\n",
        "                              \"additional_comments\"]\n",
        "\n",
        "#fourteen_df.head()"
      ],
      "execution_count": 0,
      "outputs": []
    },
    {
      "cell_type": "code",
      "metadata": {
        "id": "Q6lKme1Zskyi",
        "colab_type": "code",
        "colab": {}
      },
      "source": [
        "#adding in blank columns & year\n",
        "fourteen_df[\"comfortable_talking_physical_mental_coworkers\"] = \"\"\n",
        "fourteen_df[\"has_discussed_with_employer\"] = \"\"\n",
        "fourteen_df[\"conversation_with_employer\"] = \"\"\n",
        "fourteen_df[\"has_discussed_with_coworkers\"] = \"\"\n",
        "fourteen_df[\"conversation_with_coworkers\"] = \"\"\n",
        "fourteen_df[\"had_coworker_discuss_mental_health\"] = \"\"\n",
        "fourteen_df[\"conversation_coworker_had\"] = \"\"\n",
        "fourteen_df[\"employer_physical_health_importance\"] = \"\"\n",
        "fourteen_df[\"employer_mental_health_importance\"] = \"\"\n",
        "fourteen_df[\"has_previous_employers\"] = \"\"\n",
        "fourteen_df[\"is_previous_employer_tech_company\"] = \"\"\n",
        "fourteen_df[\"previous_employer_provided_mental_health_benefits\"] = \"\"\n",
        "fourteen_df[\"aware_options_from_previous_employer\"] = \"\"\n",
        "fourteen_df[\"previous_employer_formally_discussed_mental_health\"] = \"\"\n",
        "fourteen_df[\"previous_employer_offered_resources\"] = \"\"\n",
        "fourteen_df[\"is_anonymity_protected_by_previous_employer\"] = \"\"\n",
        "fourteen_df[\"comfortable_talking_physical_mental_previous_employer\"] = \"\"\n",
        "fourteen_df[\"comfortable_discussing_with_previous_supervisor\"] = \"\"\n",
        "fourteen_df[\"has_discussed_with_previous_employer\"] = \"\"\n",
        "fourteen_df[\"conversation_with_previous_employer\"] = \"\"\n",
        "fourteen_df[\"willing_discuss_with_previous_coworkers\"] = \"\"\n",
        "fourteen_df[\"has_discussed_with_previous_coworkers\"] = \"\"\n",
        "fourteen_df[\"conversation_with_previous_coworkers\"] = \"\"\n",
        "fourteen_df[\"had_previous_coworker_discuss_mental_health\"] = \"\"\n",
        "fourteen_df[\"conversation_previous_coworker_had\"] = \"\"\n",
        "fourteen_df[\"previous_employer_physical_health_importance\"] = \"\"\n",
        "fourteen_df[\"previous_employer_mental_health_importance\"] = \"\"\n",
        "fourteen_df[\"currently_has_mental_health_disorder\"] = \"\"\n",
        "fourteen_df[\"has_been_diagnosed\"] = \"\"\n",
        "fourteen_df[\"had_disorder_in_past\"] =\"\"\n",
        "fourteen_df[\"interferes_with_work_treated\"] = \"\"\n",
        "fourteen_df[\"interferes_with_work_not_treated\"] = \"\"\n",
        "fourteen_df[\"observations_of_others\"] = \"\"\n",
        "fourteen_df[\"willingness_to_share\"] = \"\"\n",
        "fourteen_df[\"comments_physical_health_in_interview\"] = \"\"\n",
        "fourteen_df[\"comments_mental_health_in_interview\"] = \"\"\n",
        "fourteen_df[\"is_openly_identified\"] = \"\"\n",
        "fourteen_df[\"how_think_coworkers_would_react\"] = \"\"\n",
        "fourteen_df[\"experienced_unsupportive_response\"] = \"\"\n",
        "fourteen_df[\"comments_unsupportive_response\"] = \"\"\n",
        "fourteen_df[\"experienced_supportive_response\"] = \"\"\n",
        "fourteen_df[\"comments_supportive_response\"] = \"\"\n",
        "fourteen_df[\"tech_industry_level_support\"] = \"\"\n",
        "fourteen_df[\"comments_improve_mental_health_support\"] = \"\"\n",
        "fourteen_df[\"discussing_mental_has_consequences_previous_employer\"] = \"\"\n",
        "fourteen_df[\"discussiong_physical_has_consequences_previous_employer\"] = \"\"\n",
        "fourteen_df[\"previous_employer_took_mental_seriously_as_physical\"] = \"\"\n",
        "fourteen_df[\"observed_consequences_for_previous_coworkers\"] = \"\"\n",
        "fourteen_df[\"feels_mental_health_hurts_career\"] = \"\"\n",
        "fourteen_df[\"thinks_coworkers_view_negatively\"] = \"\"\n",
        "fourteen_df[\"race\"] = \"\"\n",
        "fourteen_df[\"country_working_in\"] = \"\"\n",
        "fourteen_df[\"year\"] = \"2014\"\n",
        "\n",
        "fourteen_df.head()"
      ],
      "execution_count": 0,
      "outputs": []
    },
    {
      "cell_type": "code",
      "metadata": {
        "id": "e54LnYufCD78",
        "colab_type": "code",
        "colab": {}
      },
      "source": [
        "fourteen_reordered_df = fourteen_df[['number_employees',\n",
        "                                     'is_tech_company',\n",
        "                                     'employer_provides_mental_health_benefits',\n",
        "                                     'knows_options_available',\n",
        "                                     'employer_formally_discussed_mental_health',\n",
        "                                     'employer_offers_resources',\n",
        "                                     'is_anonymity_protected_by_employer',\n",
        "                                     'level_difficulty_asking_for_leave',\n",
        "                                     'comfortable_talking_physical_mental_coworkers',\n",
        "                                     'comfortable_discussing_with_supervisor',\n",
        "                                     'has_discussed_with_employer',\n",
        "                                     'conversation_with_employer',\n",
        "                                     'comfortable_discussing_with_coworkers',\n",
        "                                     'has_discussed_with_coworkers',\n",
        "                                     'conversation_with_coworkers',\n",
        "                                     'had_coworker_discuss_mental_health',\n",
        "                                     'conversation_coworker_had',\n",
        "                                     'employer_physical_health_importance',\n",
        "                                     'employer_mental_health_importance',\n",
        "                                     'has_previous_employers',\n",
        "                                     'is_previous_employer_tech_company',\n",
        "                                     'previous_employer_provided_mental_health_benefits',\n",
        "                                     'aware_options_from_previous_employer',\n",
        "                                     'previous_employer_formally_discussed_mental_health',\n",
        "                                     'previous_employer_offered_resources',\n",
        "                                     'is_anonymity_protected_by_previous_employer',\n",
        "                                     'comfortable_talking_physical_mental_previous_employer',\n",
        "                                     'comfortable_discussing_with_previous_supervisor',\n",
        "                                     'has_discussed_with_previous_employer',\n",
        "                                     'conversation_with_previous_employer',\n",
        "                                     'willing_discuss_with_previous_coworkers',\n",
        "                                     'has_discussed_with_previous_coworkers',\n",
        "                                     'conversation_with_previous_coworkers',\n",
        "                                     'had_previous_coworker_discuss_mental_health',\n",
        "                                     'conversation_previous_coworker_had',\n",
        "                                     'previous_employer_physical_health_importance',\n",
        "                                     'previous_employer_mental_health_importance',\n",
        "                                     'currently_has_mental_health_disorder',\n",
        "                                     'has_been_diagnosed',\n",
        "                                     'had_disorder_in_past',\n",
        "                                     'sought_treatment_for_mental_health',\n",
        "                                     'has_family_history',\n",
        "                                     'interferes_with_work_treated',\n",
        "                                     'interferes_with_work_not_treated',\n",
        "                                     'observations_of_others',\n",
        "                                     'willingness_to_share',\n",
        "                                     'physical_health_in_interview',\n",
        "                                     'comments_physical_health_in_interview',\n",
        "                                     'mental_health_in_interview',\n",
        "                                     'comments_mental_health_in_interview',\n",
        "                                     'is_openly_identified',\n",
        "                                     'how_think_coworkers_would_react',\n",
        "                                     'experienced_unsupportive_response',\n",
        "                                     'comments_unsupportive_response',\n",
        "                                     'experienced_supportive_response',\n",
        "                                     'comments_supportive_response',\n",
        "                                     'tech_industry_level_support',\n",
        "                                     'comments_improve_mental_health_support',\n",
        "                                     'additional_comments',\n",
        "                                     'interferes_with_work',\n",
        "                                     'discussing_mental_health_has_consequences',\n",
        "                                     'discussing_physical_health_has_consequences',\n",
        "                                     'employer_takes_mental_seriously_as_physical',\n",
        "                                     'observed_consequences_for_coworkers',\n",
        "                                     'discussing_mental_has_consequences_previous_employer',\n",
        "                                     'discussiong_physical_has_consequences_previous_employer',\n",
        "                                     'previous_employer_took_mental_seriously_as_physical',\n",
        "                                     'observed_consequences_for_previous_coworkers',\n",
        "                                     'feels_mental_health_hurts_career',\n",
        "                                     'thinks_coworkers_view_negatively',\n",
        "                                     'year',\n",
        "                                     'age',\n",
        "                                     'gender',\n",
        "                                     'country_living_in',\n",
        "                                     'race',\n",
        "                                     'country_working_in',\n",
        "                                     'works_remotely'\n",
        "                                     ]]\n",
        "\n",
        "\n",
        "#fourteen_reordered_df.head()"
      ],
      "execution_count": 0,
      "outputs": []
    },
    {
      "cell_type": "code",
      "metadata": {
        "id": "QGsddURk-Lez",
        "colab_type": "code",
        "colab": {}
      },
      "source": [
        "#split 2014 data into 2 dataframes\n",
        "#split dataframe into survey and demographics\n",
        "dfs = np.split(fourteen_reordered_df, [71], axis=1)\n",
        "fourteen_survey_df = dfs[0]\n",
        "fourteen_demographics_df = dfs[1]\n",
        "#fourteen_survey_df.head()"
      ],
      "execution_count": 0,
      "outputs": []
    },
    {
      "cell_type": "code",
      "metadata": {
        "id": "5IeahBFbDV0E",
        "colab_type": "code",
        "colab": {}
      },
      "source": [
        "#move year to beginning of dataframe\n",
        "cols5 = list(fourteen_survey_df.columns)\n",
        "cols5 = [cols5[-1]] + cols5[:-1]\n",
        "fourteen_survey_df = fourteen_survey_df[cols5]\n",
        "fourteen_survey_df.head()"
      ],
      "execution_count": 0,
      "outputs": []
    },
    {
      "cell_type": "code",
      "metadata": {
        "id": "hCXfxnlaU1US",
        "colab_type": "code",
        "colab": {}
      },
      "source": [
        "fourteen_demographics_df.head()"
      ],
      "execution_count": 0,
      "outputs": []
    },
    {
      "cell_type": "markdown",
      "metadata": {
        "id": "ao5uC0wOhTwB",
        "colab_type": "text"
      },
      "source": [
        "Appending dataframes into survey and demographic tables"
      ]
    },
    {
      "cell_type": "code",
      "metadata": {
        "id": "ncRVZKtgv6-Y",
        "colab_type": "code",
        "colab": {}
      },
      "source": [
        "#appending demographics dataframes\n",
        "demographics_df1 = nineteen_demographics_df.append(eighteen_demographics_df)\n",
        "demographics_df2 = demographics_df1.append(seventeen_demographics2_df)\n",
        "demographics_df3 = demographics_df2.append(fourteen_demographics_df)\n",
        "#demographics_df4 = demographics_df3.append(sixteen_demographics2_df)\n",
        "demographics_df3.head()"
      ],
      "execution_count": 0,
      "outputs": []
    },
    {
      "cell_type": "code",
      "metadata": {
        "id": "8H9Wc95exiHZ",
        "colab_type": "code",
        "colab": {}
      },
      "source": [
        "#creating unique id\n",
        "demographics_df3['id'] = demographics_df3.index\n",
        "demographics_df3.head()"
      ],
      "execution_count": 0,
      "outputs": []
    },
    {
      "cell_type": "code",
      "metadata": {
        "id": "_1SGhEq2hRpl",
        "colab_type": "code",
        "colab": {}
      },
      "source": [
        "#move id to beginning of dataframe\n",
        "cols = list(demographics_df3.columns)\n",
        "cols = [cols[-1]] + cols[:-1]\n",
        "demographics_df3 = demographics_df3[cols]\n",
        "demographics_df3.head()"
      ],
      "execution_count": 0,
      "outputs": []
    },
    {
      "cell_type": "code",
      "metadata": {
        "id": "FRS488rHPXZe",
        "colab_type": "code",
        "colab": {}
      },
      "source": [
        "#replace Nans and empty strings to None for SQL database\n",
        "demographics_df3 = demographics_df3.replace({np.nan: None})\n",
        "demographics_df3 = demographics_df3.replace({\"\": None})\n",
        "demographics_df3.head()"
      ],
      "execution_count": 0,
      "outputs": []
    },
    {
      "cell_type": "code",
      "metadata": {
        "id": "kCd2o5OgJwD7",
        "colab_type": "code",
        "colab": {}
      },
      "source": [
        "#appending survey dataframes\n",
        "survey_df1 = nineteen_survey_df.append(eighteen_survey_df)\n",
        "survey_df2 = survey_df1.append(seventeen_survey_df)\n",
        "survey_df3 = survey_df2.append(fourteen_survey_df)\n",
        "survey_df3.head()\n",
        "#survey_df4 = survey_df3.append(sixteen_survey_df)\n",
        "#survey_df4.tail()"
      ],
      "execution_count": 0,
      "outputs": []
    },
    {
      "cell_type": "code",
      "metadata": {
        "id": "7iq0uUWpLjiQ",
        "colab_type": "code",
        "colab": {}
      },
      "source": [
        "#creating unique id\n",
        "survey_df3['id'] = survey_df3.index\n",
        "survey_df3"
      ],
      "execution_count": 0,
      "outputs": []
    },
    {
      "cell_type": "code",
      "metadata": {
        "id": "yRWWtCESr1D7",
        "colab_type": "code",
        "colab": {}
      },
      "source": [
        "#move id to beginning of dataframe\n",
        "cols1 = list(survey_df3.columns)\n",
        "cols1 = [cols1[-1]] + cols1[:-1]\n",
        "survey_df3 = survey_df3[cols1]\n",
        "survey_df3.head()"
      ],
      "execution_count": 0,
      "outputs": []
    },
    {
      "cell_type": "code",
      "metadata": {
        "id": "9Kcxvt6yO47t",
        "colab_type": "code",
        "colab": {}
      },
      "source": [
        "#replace Nans and empty strings to None for SQL database\n",
        "survey_df3 = survey_df3.replace({np.nan: None})\n",
        "survey_df3 = survey_df3.replace({\"\": None})\n",
        "survey_df3.head()\n"
      ],
      "execution_count": 0,
      "outputs": []
    },
    {
      "cell_type": "code",
      "metadata": {
        "id": "tffAsmsCtH8h",
        "colab_type": "code",
        "colab": {}
      },
      "source": [
        "#make columns all the same values (TRUE/FALSE or 1 or 0)\n",
        "\n"
      ],
      "execution_count": 0,
      "outputs": []
    },
    {
      "cell_type": "code",
      "metadata": {
        "id": "UHR9PUgiwAPc",
        "colab_type": "code",
        "colab": {}
      },
      "source": [
        "#Assign datatypes where needed in demographics dataframe\n",
        "demographics_df3['age'] = pd.to_numeric(demographics_df3['age'])\n",
        "demographics_df3['id'] = demographics_df3['id'].apply(str)\n"
      ],
      "execution_count": 0,
      "outputs": []
    },
    {
      "cell_type": "code",
      "metadata": {
        "id": "Pj1xilHdB6ca",
        "colab_type": "code",
        "colab": {}
      },
      "source": [
        "#check datatypes\n",
        "demographics_df3.dtypes"
      ],
      "execution_count": 0,
      "outputs": []
    },
    {
      "cell_type": "code",
      "metadata": {
        "id": "ifOK65Y2DCuV",
        "colab_type": "code",
        "colab": {}
      },
      "source": [
        "#assign datatypes where needed in survey dataframe\n",
        "survey_df3['id'] = survey_df3['id'].apply(str)\n",
        "survey_df3['year'] = pd.to_numeric(survey_df3['year'])\n",
        "survey_df3['is_tech_company'] = pd.to_numeric(survey_df3['is_tech_company'])\n",
        "survey_df3['has_disscussed_with_employer'] = pd.to_numeric(survey_df3['has_disscussed_with_employer'])\n",
        "survey_df3['has_disscussed_with_coworkers'] = pd.to_numeric(survey_df3['has_disscussed_with_coworkers'])\n",
        "survey_df3['had_coworker_discuss_mental_health'] = pd.to_numeric(survey_df3['had_coworker_discuss_mental_health'])\n",
        "survey_df3['employer_physical_health_importance'] = pd.to_numeric(survey_df3['employer_physical_health_importance'])\n",
        "survey_df3['employer_mental_health_importance'] = pd.to_numeric(survey_df3['employer_mental_health_importance'])\n",
        "survey_df3['has_previous_employers'] = pd.to_numeric(survey_df3['has_previous_employers'])\n",
        "survey_df3['is_previous_employer_tech_company'] = pd.to_numeric(survey_df3['is_previous_employer_tech_company'])\n",
        "survey_df3['has_discussed_with_previous_employer'] = pd.to_numeric(survey_df3['has_discussed_with_previous_employer'])\n",
        "survey_df3['has_discussed_with_previous_coworkers'] = pd.to_numeric(survey_df3['has_discussed_with_previous_coworkers'])\n",
        "survey_df3['had_previous_coworker_discuss_mental_health'] = pd.to_numeric(survey_df3['had_previous_coworker_discuss_mental_health'])\n",
        "survey_df3['previous_employer_physical_health_importance'] = pd.to_numeric(survey_df3['previous_employer_physical_health_importance'])\n",
        "survey_df3['previous_employer_mental_health_importance'] = pd.to_numeric(survey_df3['previous_employer_mental_health_importance'])\n",
        "survey_df3['sought_treatment_for_mental_health'] = pd.to_numeric(survey_df3['sought_treatment_for_mental_health'])\n",
        "survey_df3['willingness_to_share'] = pd.to_numeric(survey_df3['willingness_to_share'])\n",
        "survey_df3['is_openly_identified'] = pd.to_numeric(survey_df3['is_openly_identified'])\n",
        "survey_df3['how_think_coworkers_would_react'] = pd.to_numeric(survey_df3['how_think_coworkers_would_react'])\n",
        "survey_df3['tech_industry_level_support'] = pd.to_numeric(survey_df3['tech_industry_level_support'])\n"
      ],
      "execution_count": 0,
      "outputs": []
    },
    {
      "cell_type": "code",
      "metadata": {
        "id": "f_txV7-cIa30",
        "colab_type": "code",
        "colab": {}
      },
      "source": [
        "survey_df3.dtypes"
      ],
      "execution_count": 0,
      "outputs": []
    },
    {
      "cell_type": "code",
      "metadata": {
        "id": "-Zd2XDhLvJI_",
        "colab_type": "code",
        "colab": {}
      },
      "source": [
        ""
      ],
      "execution_count": 0,
      "outputs": []
    },
    {
      "cell_type": "code",
      "metadata": {
        "id": "Nty7jhjbvJVT",
        "colab_type": "code",
        "colab": {}
      },
      "source": [
        ""
      ],
      "execution_count": 0,
      "outputs": []
    }
  ]
}
