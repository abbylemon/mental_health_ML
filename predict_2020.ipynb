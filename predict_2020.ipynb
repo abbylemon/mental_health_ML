{
 "cells": [
  {
   "cell_type": "markdown",
   "metadata": {
    "colab_type": "text",
    "id": "zIrV0goTpozH"
   },
   "source": [
    "##Start Spark Session"
   ]
  },
  {
   "cell_type": "code",
   "execution_count": 1,
   "metadata": {
    "colab": {},
    "colab_type": "code",
    "id": "dfiZFhLbpjqu"
   },
   "outputs": [],
   "source": [
    "# # Install Java, Spark, and Findspark\n",
    "# !apt-get install openjdk-8-jdk-headless -qq > /dev/null\n",
    "# !wget -q http://www-us.apache.org/dist/spark/spark-2.4.5/spark-2.4.5-bin-hadoop2.7.tgz\n",
    "# !tar xf spark-2.4.5-bin-hadoop2.7.tgz\n",
    "# !pip install -q findspark\n",
    "\n",
    "# # Set Environment Variables\n",
    "# import os\n",
    "# os.environ[\"JAVA_HOME\"] = \"/usr/lib/jvm/java-8-openjdk-amd64\"\n",
    "# os.environ[\"SPARK_HOME\"] = \"/content/spark-2.4.5-bin-hadoop2.7\"\n",
    "\n",
    "# # Start a SparkSession\n",
    "# import findspark\n",
    "# findspark.init()"
   ]
  },
  {
   "cell_type": "markdown",
   "metadata": {
    "colab_type": "text",
    "id": "JGB4zLMS2qbn"
   },
   "source": [
    "\n",
    "## Mount Google Drive into this runtime \n",
    "\n",
    "To access your config file, you need to mount your google drive into this runtime. To do that, run the following cells.\n",
    "This will prompt a URL with an authentication code. After you go to the URL and insert "
   ]
  },
  {
   "cell_type": "code",
   "execution_count": 2,
   "metadata": {
    "colab": {
     "base_uri": "https://localhost:8080/",
     "height": 122
    },
    "colab_type": "code",
    "executionInfo": {
     "elapsed": 22993,
     "status": "ok",
     "timestamp": 1590017903471,
     "user": {
      "displayName": "Levi Lemon",
      "photoUrl": "",
      "userId": "00493676037501578298"
     },
     "user_tz": 300
    },
    "id": "3Qjs5p7h2__5",
    "outputId": "cbf47ae4-7e6e-4bbc-c6da-3b103554893c"
   },
   "outputs": [],
   "source": [
    "# # Mount Google Drive\n",
    "# from google.colab import drive\n",
    "# drive.mount('/content/gdrive')"
   ]
  },
  {
   "cell_type": "code",
   "execution_count": 3,
   "metadata": {
    "colab": {
     "base_uri": "https://localhost:8080/",
     "height": 34
    },
    "colab_type": "code",
    "executionInfo": {
     "elapsed": 364,
     "status": "ok",
     "timestamp": 1589940986280,
     "user": {
      "displayName": "Levi Lemon",
      "photoUrl": "",
      "userId": "00493676037501578298"
     },
     "user_tz": 300
    },
    "id": "c2VjsrU33Dp7",
    "outputId": "d07b3969-64a0-4436-a134-a76a9e7bf6e9"
   },
   "outputs": [],
   "source": [
    "# %cd /content/gdrive/My Drive/data_final_project/mental_health_ML"
   ]
  },
  {
   "cell_type": "markdown",
   "metadata": {
    "colab_type": "text",
    "id": "5kjfEHv_3KbF"
   },
   "source": [
    "## Create config.py file\n",
    "\n",
    "\n",
    "*   List item\n",
    "*   List item\n",
    "\n",
    "\n",
    "In the **mental_health_ML** directory, create a file called **config.py** and add the following contents:\n",
    "\n",
    "```bash\n",
    "ACCESS_ID='AWS_ACCESS_KEY_ID'\n",
    "ACCESS_KEY='AWS_SECRET_ACCESS_KEY'\n",
    "BUCKET_NAME='S3_BUCKET_NAME'\n",
    "```\n",
    "\n",
    "Replace AWS_ACCESS_KEY_ID, AWS_SECRET_ACCESS_KEY, and S3_BUCKET_NAME with their actual values. This file is in the .gitignore so that it won't be committed to GitHub."
   ]
  },
  {
   "cell_type": "code",
   "execution_count": 4,
   "metadata": {
    "colab": {
     "base_uri": "https://localhost:8080/",
     "height": 34
    },
    "colab_type": "code",
    "executionInfo": {
     "elapsed": 3767,
     "status": "ok",
     "timestamp": 1589940994071,
     "user": {
      "displayName": "Levi Lemon",
      "photoUrl": "",
      "userId": "00493676037501578298"
     },
     "user_tz": 300
    },
    "id": "L8QxDEfLp8_H",
    "outputId": "92a270a0-ea95-4e96-cbbe-d6bf3b38bf5a"
   },
   "outputs": [],
   "source": [
    "# Database credentials\n",
    "from config import DB_USERNAME, DB_PASSWORD, DB_ENDPOINT\n",
    "\n",
    "# Used for making database connection.\n",
    "# ! pip install sqlalchemy\n",
    "\n",
    "from sqlalchemy import create_engine"
   ]
  },
  {
   "cell_type": "code",
   "execution_count": 5,
   "metadata": {
    "colab": {
     "base_uri": "https://localhost:8080/",
     "height": 34
    },
    "colab_type": "code",
    "executionInfo": {
     "elapsed": 3646,
     "status": "ok",
     "timestamp": 1589941029797,
     "user": {
      "displayName": "Levi Lemon",
      "photoUrl": "",
      "userId": "00493676037501578298"
     },
     "user_tz": 300
    },
    "id": "F1RdQ1JH0vKu",
    "outputId": "08634def-3ddc-4c05-b91b-634f69854dad"
   },
   "outputs": [],
   "source": [
    "# ! pip install psycopg2-binary\n",
    "\n",
    "rds_connection_string = f\"{DB_USERNAME}:{DB_PASSWORD}@{DB_ENDPOINT}:5432/mental_health_tech_db\"\n",
    "engine = create_engine(f'postgresql://{rds_connection_string}')"
   ]
  },
  {
   "cell_type": "code",
   "execution_count": 6,
   "metadata": {
    "colab": {
     "base_uri": "https://localhost:8080/",
     "height": 34
    },
    "colab_type": "code",
    "executionInfo": {
     "elapsed": 1790,
     "status": "ok",
     "timestamp": 1589941036203,
     "user": {
      "displayName": "Levi Lemon",
      "photoUrl": "",
      "userId": "00493676037501578298"
     },
     "user_tz": 300
    },
    "id": "dSPRIp3O0zOm",
    "outputId": "3b0c2a3e-ca01-4d3c-cc44-d19dc6674ae9"
   },
   "outputs": [
    {
     "data": {
      "text/plain": [
       "['survey_responses']"
      ]
     },
     "execution_count": 6,
     "metadata": {},
     "output_type": "execute_result"
    }
   ],
   "source": [
    "engine.table_names()"
   ]
  },
  {
   "cell_type": "code",
   "execution_count": 7,
   "metadata": {
    "colab": {},
    "colab_type": "code",
    "id": "13DSAGwSmBwB"
   },
   "outputs": [],
   "source": [
    "import pandas as pd\n",
    "import matplotlib.pyplot as plt\n",
    "plt.style.use('seaborn')\n",
    "import numpy as np\n",
    "from sklearn.linear_model import LinearRegression"
   ]
  },
  {
   "cell_type": "code",
   "execution_count": 8,
   "metadata": {
    "colab": {},
    "colab_type": "code",
    "id": "LIG7r6qb06Wu"
   },
   "outputs": [],
   "source": [
    "survey_df = pd.read_sql_query('select * from survey_responses', con=engine)"
   ]
  },
  {
   "cell_type": "code",
   "execution_count": 9,
   "metadata": {
    "colab": {
     "base_uri": "https://localhost:8080/",
     "height": 34
    },
    "colab_type": "code",
    "executionInfo": {
     "elapsed": 299,
     "status": "ok",
     "timestamp": 1589940424723,
     "user": {
      "displayName": "Levi Lemon",
      "photoUrl": "",
      "userId": "00493676037501578298"
     },
     "user_tz": 300
    },
    "id": "t5AgJ2qnUzFN",
    "outputId": "2f3a4bd3-4a75-453c-c96e-f560f70745aa"
   },
   "outputs": [
    {
     "name": "stdout",
     "output_type": "stream",
     "text": [
      "[ True]\n"
     ]
    }
   ],
   "source": [
    "twenty14_df = survey_df.loc[survey_df['year'] == 2014, ['sought_treatment_for_mental_health']]\n",
    "twenty14_results = np.unique(twenty14_df['sought_treatment_for_mental_health'])\n",
    "print(twenty14_results)"
   ]
  },
  {
   "cell_type": "markdown",
   "metadata": {
    "colab_type": "text",
    "id": "K2NKJRD2VBVY"
   },
   "source": [
    "# Plotting True/False Percent Responses"
   ]
  },
  {
   "cell_type": "code",
   "execution_count": 10,
   "metadata": {
    "colab": {
     "base_uri": "https://localhost:8080/",
     "height": 102
    },
    "colab_type": "code",
    "executionInfo": {
     "elapsed": 325,
     "status": "ok",
     "timestamp": 1589941053379,
     "user": {
      "displayName": "Levi Lemon",
      "photoUrl": "",
      "userId": "00493676037501578298"
     },
     "user_tz": 300
    },
    "id": "JZlPMGuKdTJO",
    "outputId": "0c37f4f3-5231-47a6-dd75-9f88f6d5a2bf"
   },
   "outputs": [
    {
     "data": {
      "text/plain": [
       "year\n",
       "2017    643\n",
       "2018    361\n",
       "2019    304\n",
       "dtype: int64"
      ]
     },
     "execution_count": 10,
     "metadata": {},
     "output_type": "execute_result"
    }
   ],
   "source": [
    "predict_df = survey_df.loc[survey_df['year']>2016, ['year', 'sought_treatment_for_mental_health']]\n",
    "participant_count = predict_df.groupby(['year']).size()\n",
    "participant_count"
   ]
  },
  {
   "cell_type": "code",
   "execution_count": 11,
   "metadata": {
    "colab": {
     "base_uri": "https://localhost:8080/",
     "height": 153
    },
    "colab_type": "code",
    "executionInfo": {
     "elapsed": 456,
     "status": "ok",
     "timestamp": 1589941054727,
     "user": {
      "displayName": "Levi Lemon",
      "photoUrl": "",
      "userId": "00493676037501578298"
     },
     "user_tz": 300
    },
    "id": "K_pbO7f05hwR",
    "outputId": "73eb62cb-4e73-4c2a-b4cd-2f7bfffbf750"
   },
   "outputs": [
    {
     "data": {
      "text/plain": [
       "year  sought_treatment_for_mental_health\n",
       "2017  False                                 259\n",
       "      True                                  384\n",
       "2018  False                                 131\n",
       "      True                                  230\n",
       "2019  False                                 112\n",
       "      True                                  192\n",
       "dtype: int64"
      ]
     },
     "execution_count": 11,
     "metadata": {},
     "output_type": "execute_result"
    }
   ],
   "source": [
    "treatment_count = predict_df.groupby(['year', 'sought_treatment_for_mental_health']).size()\n",
    "treatment_count"
   ]
  },
  {
   "cell_type": "code",
   "execution_count": 12,
   "metadata": {
    "colab": {
     "base_uri": "https://localhost:8080/",
     "height": 252
    },
    "colab_type": "code",
    "executionInfo": {
     "elapsed": 412,
     "status": "ok",
     "timestamp": 1589941055955,
     "user": {
      "displayName": "Levi Lemon",
      "photoUrl": "",
      "userId": "00493676037501578298"
     },
     "user_tz": 300
    },
    "id": "gCJp_6eaXJ8b",
    "outputId": "575c591f-8729-4b27-aadf-d4bb95b735a5"
   },
   "outputs": [
    {
     "name": "stdout",
     "output_type": "stream",
     "text": [
      "These dataframe columns do not exist.\n"
     ]
    },
    {
     "data": {
      "text/html": [
       "<div>\n",
       "<style scoped>\n",
       "    .dataframe tbody tr th:only-of-type {\n",
       "        vertical-align: middle;\n",
       "    }\n",
       "\n",
       "    .dataframe tbody tr th {\n",
       "        vertical-align: top;\n",
       "    }\n",
       "\n",
       "    .dataframe thead th {\n",
       "        text-align: right;\n",
       "    }\n",
       "</style>\n",
       "<table border=\"1\" class=\"dataframe\">\n",
       "  <thead>\n",
       "    <tr style=\"text-align: right;\">\n",
       "      <th></th>\n",
       "      <th>year</th>\n",
       "      <th>sought_treatment_for_mental_health</th>\n",
       "      <th>sought_treatment_percentage</th>\n",
       "    </tr>\n",
       "  </thead>\n",
       "  <tbody>\n",
       "    <tr>\n",
       "      <th>0</th>\n",
       "      <td>2017</td>\n",
       "      <td>False</td>\n",
       "      <td>0.402799</td>\n",
       "    </tr>\n",
       "    <tr>\n",
       "      <th>1</th>\n",
       "      <td>2017</td>\n",
       "      <td>True</td>\n",
       "      <td>0.597201</td>\n",
       "    </tr>\n",
       "    <tr>\n",
       "      <th>2</th>\n",
       "      <td>2018</td>\n",
       "      <td>False</td>\n",
       "      <td>0.362881</td>\n",
       "    </tr>\n",
       "    <tr>\n",
       "      <th>3</th>\n",
       "      <td>2018</td>\n",
       "      <td>True</td>\n",
       "      <td>0.637119</td>\n",
       "    </tr>\n",
       "    <tr>\n",
       "      <th>4</th>\n",
       "      <td>2019</td>\n",
       "      <td>False</td>\n",
       "      <td>0.368421</td>\n",
       "    </tr>\n",
       "    <tr>\n",
       "      <th>5</th>\n",
       "      <td>2019</td>\n",
       "      <td>True</td>\n",
       "      <td>0.631579</td>\n",
       "    </tr>\n",
       "  </tbody>\n",
       "</table>\n",
       "</div>"
      ],
      "text/plain": [
       "   year  sought_treatment_for_mental_health  sought_treatment_percentage\n",
       "0  2017                               False                     0.402799\n",
       "1  2017                                True                     0.597201\n",
       "2  2018                               False                     0.362881\n",
       "3  2018                                True                     0.637119\n",
       "4  2019                               False                     0.368421\n",
       "5  2019                                True                     0.631579"
      ]
     },
     "execution_count": 12,
     "metadata": {},
     "output_type": "execute_result"
    }
   ],
   "source": [
    "years = list(set(predict_df['year']))\n",
    "try:\n",
    "  treatment_precent_df = treatment_precent_df.drop(['year', 'sought_treatment_for_mental_health', 'sought_treatment_percentage'], axis=1)\n",
    "except:\n",
    "  print('These dataframe columns do not exist.')\n",
    "  pass\n",
    "year_col = []\n",
    "treatment_result_col = []\n",
    "treatment_percent_col = []\n",
    "for i in range(len(years)):\n",
    "  year_col.append(years[i])\n",
    "  year_col.append(years[i])\n",
    "  treatment_result_col.append(False)\n",
    "  treatment_result_col.append(True)\n",
    "  treatment_percent_col.append(treatment_count[years[i]][False] / participant_count[years[i]])\n",
    "  treatment_percent_col.append(treatment_count[years[i]][True] / participant_count[years[i]])\n",
    "\n",
    "treatment_precent_df = pd.DataFrame(list(zip(year_col, treatment_result_col, treatment_percent_col)),\n",
    "                                    columns=['year', 'sought_treatment_for_mental_health', 'sought_treatment_percentage'])\n",
    "treatment_precent_df"
   ]
  },
  {
   "cell_type": "code",
   "execution_count": 31,
   "metadata": {
    "colab": {},
    "colab_type": "code",
    "id": "AAPRhxV1kZWq"
   },
   "outputs": [],
   "source": [
    "def trueFalseBarPlot(ylabels, truePercent, falsePercent):\n",
    "  x = np.arange(len(ylabels))  # the label locations\n",
    "  width = 0.35  # the width of the bars\n",
    "\n",
    "  fig, ax = plt.subplots()\n",
    "  rects1 = ax.bar(x - width/2, falsePercent, width, label='False')\n",
    "  rects2 = ax.bar(x + width/2, truePercent, width, label='True')\n",
    "\n",
    "  # Add some text for labels, title and custom x-axis tick labels, etc.\n",
    "  plt.ylim(0, 1)\n",
    "  ax.set_ylabel('Employees Who Sought Treatment (%)')\n",
    "  ax.set_title('Survey Response Results by Year')\n",
    "  ax.set_xticks(x)\n",
    "  ax.set_xticklabels(ylabels)\n",
    "  ax.legend()\n",
    "\n",
    "  def autolabel(rects):\n",
    "      \"\"\"Attach a text label above each bar in *rects*, displaying its height.\"\"\"\n",
    "      for rect in rects:\n",
    "          height = rect.get_height()\n",
    "          ax.annotate('{:.2%}'.format(height),\n",
    "                      xy=(rect.get_x() + rect.get_width() / 2, height),\n",
    "                      xytext=(0, 3),  # 3 points vertical offset\n",
    "                      textcoords=\"offset points\",\n",
    "                      ha='center', va='bottom')\n",
    "\n",
    "\n",
    "  autolabel(rects1)\n",
    "  autolabel(rects2)\n",
    "\n",
    "  fig.tight_layout()\n",
    "\n",
    "  return plt\n",
    "\n",
    "#   plt.show()"
   ]
  },
  {
   "cell_type": "code",
   "execution_count": 22,
   "metadata": {
    "colab": {
     "base_uri": "https://localhost:8080/"
    },
    "colab_type": "code",
    "executionInfo": {
     "elapsed": 818,
     "status": "ok",
     "timestamp": 1589941108794,
     "user": {
      "displayName": "Levi Lemon",
      "photoUrl": "",
      "userId": "00493676037501578298"
     },
     "user_tz": 300
    },
    "id": "zlmnB076ct-i",
    "outputId": "66c6a93c-81a7-46d1-8124-7cb0e7260df2"
   },
   "outputs": [
    {
     "data": {
      "image/png": "[encoded data removed]",
      "text/plain": [
       "<Figure size 432x288 with 1 Axes>"
      ]
     },
     "metadata": {
      "needs_background": "light"
     },
     "output_type": "display_data"
    },
    {
     "data": {
      "text/plain": [
       "<module 'matplotlib.pyplot' from '/Users/abby/miniconda3/envs/PythonData/lib/python3.6/site-packages/matplotlib/pyplot.py'>"
      ]
     },
     "execution_count": 22,
     "metadata": {},
     "output_type": "execute_result"
    }
   ],
   "source": [
    "\n",
    "labels = list(set(predict_df['year']))\n",
    "truePercent = treatment_precent_df.loc[treatment_precent_df['sought_treatment_for_mental_health'] == True,'sought_treatment_percentage']\n",
    "falsePercent = treatment_precent_df.loc[treatment_precent_df['sought_treatment_for_mental_health'] == False,'sought_treatment_percentage']\n",
    "\n",
    "trueFalseBarPlot(labels, truePercent, falsePercent)"
   ]
  },
  {
   "cell_type": "code",
   "execution_count": 15,
   "metadata": {
    "colab": {},
    "colab_type": "code",
    "id": "pgbE9pm3tbWT"
   },
   "outputs": [],
   "source": [
    "regression_df = treatment_precent_df[treatment_precent_df['sought_treatment_for_mental_health']==True]\n",
    "regression_df\n",
    "\n",
    "x = regression_df[['year']]\n",
    "y = regression_df['sought_treatment_percentage']"
   ]
  },
  {
   "cell_type": "code",
   "execution_count": 16,
   "metadata": {
    "colab": {},
    "colab_type": "code",
    "id": "iVd9OOeKho1o"
   },
   "outputs": [
    {
     "name": "stdout",
     "output_type": "stream",
     "text": [
      "LinearRegression(copy_X=True, fit_intercept=True, n_jobs=None, normalize=False)\n"
     ]
    }
   ],
   "source": [
    "from sklearn.linear_model import LinearRegression\n",
    "model = LinearRegression()\n",
    "\n",
    "model.fit(x, y)\n",
    "print(model)"
   ]
  },
  {
   "cell_type": "code",
   "execution_count": 17,
   "metadata": {
    "colab": {},
    "colab_type": "code",
    "id": "2HYmlcZHikPN"
   },
   "outputs": [
    {
     "name": "stdout",
     "output_type": "stream",
     "text": [
      "Weight coefficients:  [0.01718916]\n",
      "y-axis intercept:  -34.065763984324306\n",
      "R2 value is: 0.6317794496136115\n"
     ]
    }
   ],
   "source": [
    "reg = LinearRegression().fit(x,y)\n",
    "\n",
    "print(\"Weight coefficients: \", model.coef_)\n",
    "print(\"y-axis intercept: \", model.intercept_)\n",
    "print(f\"R2 value is: {reg.score(x, y)}\")"
   ]
  },
  {
   "cell_type": "code",
   "execution_count": 18,
   "metadata": {
    "colab": {},
    "colab_type": "code",
    "id": "e6y-jBKci-C2"
   },
   "outputs": [],
   "source": [
    "def soughtTreatmentPercentagePrediction(year):\n",
    "  m = 0.01718916\n",
    "  b = -34.0657639843243\n",
    "  return (m * year) + b"
   ]
  },
  {
   "cell_type": "code",
   "execution_count": 36,
   "metadata": {
    "colab": {},
    "colab_type": "code",
    "id": "HuUtVpyIozeU"
   },
   "outputs": [
    {
     "name": "stdout",
     "output_type": "stream",
     "text": [
      "[0.5972006220839814, 0.6371191135734072, 0.631578947368421, 0.6563392156757004]\n"
     ]
    }
   ],
   "source": [
    "predict_year = 2020\n",
    "truePercentlist = list(truePercent)\n",
    "prediction = soughtTreatmentPercentagePrediction(predict_year)\n",
    "truePercentlist.append(prediction)\n",
    "print(truePercentlist)"
   ]
  },
  {
   "cell_type": "code",
   "execution_count": 37,
   "metadata": {
    "colab": {},
    "colab_type": "code",
    "id": "tFzbJcFDjl6w"
   },
   "outputs": [
    {
     "data": {
      "image/png": "[encoded data removed]",
      "text/plain": [
       "<Figure size 432x288 with 1 Axes>"
      ]
     },
     "metadata": {
      "needs_background": "light"
     },
     "output_type": "display_data"
    }
   ],
   "source": [
    "yearsPredict = list(set(predict_df['year']))\n",
    "yearsPredict.append(f'{predict_year} Prediction')\n",
    "\n",
    "prediction = soughtTreatmentPercentagePrediction(predict_year)\n",
    "truePercentPredict = list(truePercent)\n",
    "truePercentPredict.append(prediction)\n",
    "falsePercentPredict = list(falsePercent)\n",
    "falsePercentPredict.append(1-prediction)\n",
    "trueFalseBarPlot(yearsPredict, truePercentPredict, falsePercentPredict)\n",
    "plt.savefig(f\"application/static/images/{predict_year}_Response_to_Treatment_Prediction.png\", dpi=900)"
   ]
  },
  {
   "cell_type": "code",
   "execution_count": 40,
   "metadata": {
    "colab": {},
    "colab_type": "code",
    "id": "4EMGJ3ArqaiN"
   },
   "outputs": [
    {
     "data": {
      "text/plain": [
       "[2017, 2018, 2019, '2020 Prediction']"
      ]
     },
     "execution_count": 40,
     "metadata": {},
     "output_type": "execute_result"
    }
   ],
   "source": [
    "yearsPredict\n",
    "# truePercentPredict\n",
    "# falsePercentPredict"
   ]
  },
  {
   "cell_type": "code",
   "execution_count": 50,
   "metadata": {
    "colab": {},
    "colab_type": "code",
    "id": "0mj1DyyYyBuk"
   },
   "outputs": [],
   "source": [
    "# put data into a csv to upload into js to create a d3 plot\n",
    "data = [pd.DataFrame(yearsPredict), pd.DataFrame(truePercentPredict), pd.DataFrame(falsePercentPredict)]\n",
    "headers = [\"Year\", \"TruePrecent\", \"FalsePercent\"]\n",
    "predictChart_df = pd.concat(data, axis=1, keys=headers)\n",
    "predictChart_df.to_csv(\"application/static/predictChartData.csv\")\n",
    "\n"
   ]
  },
  {
   "cell_type": "code",
   "execution_count": null,
   "metadata": {},
   "outputs": [],
   "source": []
  }
 ],
 "metadata": {
  "colab": {
   "collapsed_sections": [],
   "name": "predict_2020.ipynb",
   "provenance": []
  },
  "kernelspec": {
   "display_name": "Python 3",
   "language": "python",
   "name": "python3"
  },
  "language_info": {
   "codemirror_mode": {
    "name": "ipython",
    "version": 3
   },
   "file_extension": ".py",
   "mimetype": "text/x-python",
   "name": "python",
   "nbconvert_exporter": "python",
   "pygments_lexer": "ipython3",
   "version": "3.6.9"
  }
 },
 "nbformat": 4,
 "nbformat_minor": 1
}
