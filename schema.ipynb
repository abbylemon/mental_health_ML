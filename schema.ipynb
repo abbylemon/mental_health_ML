{
  "nbformat": 4,
  "nbformat_minor": 0,
  "metadata": {
    "colab": {
      "name": "schema.ipynb",
      "provenance": [],
      "collapsed_sections": []
    },
    "kernelspec": {
      "name": "python3",
      "display_name": "Python 3"
    }
  },
  "cells": [
    {
      "cell_type": "markdown",
      "metadata": {
        "id": "bckX6rtmzHv2",
        "colab_type": "text"
      },
      "source": [
        "# Create Schema and Connect to Database\n",
        "\n",
        "Run the following cells to create the schema for the database tables and connect to the database to verify that the tables were created.\n",
        "\n",
        "Make sure to add the following environment variables to your config.py file:\n",
        "\n",
        "```\n",
        "DB_USERNAME='username'\n",
        "DB_PASSWORD='password'\n",
        "DB_ENDPOINT = 'db_endpoint'\n",
        "```\n",
        "\n",
        "Replace *username* and *password* with your actual database username and password. Replace *db_endpoint* with the actual database endpoint (the endpoint value from AWS RDS)."
      ]
    },
    {
      "cell_type": "markdown",
      "metadata": {
        "id": "RIKSpx7msrSQ",
        "colab_type": "text"
      },
      "source": [
        "## Start Spark session"
      ]
    },
    {
      "cell_type": "code",
      "metadata": {
        "id": "RxaKhT0Gss4F",
        "colab_type": "code",
        "colab": {}
      },
      "source": [
        "# Install Java, Spark, and Findspark\n",
        "!apt-get install openjdk-8-jdk-headless -qq > /dev/null\n",
        "!wget -q http://www-us.apache.org/dist/spark/spark-2.4.5/spark-2.4.5-bin-hadoop2.7.tgz\n",
        "!tar xf spark-2.4.5-bin-hadoop2.7.tgz\n",
        "!pip install -q findspark\n",
        "\n",
        "# Set Environment Variables\n",
        "import os\n",
        "os.environ[\"JAVA_HOME\"] = \"/usr/lib/jvm/java-8-openjdk-amd64\"\n",
        "os.environ[\"SPARK_HOME\"] = \"/content/spark-2.4.5-bin-hadoop2.7\"\n",
        "\n",
        "# Start a SparkSession\n",
        "import findspark\n",
        "findspark.init()"
      ],
      "execution_count": 0,
      "outputs": []
    },
    {
      "cell_type": "code",
      "metadata": {
        "id": "SjH1loywsvDP",
        "colab_type": "code",
        "colab": {}
      },
      "source": [
        "!wget https://jdbc.postgresql.org/download/postgresql-42.2.9.jar"
      ],
      "execution_count": 0,
      "outputs": []
    },
    {
      "cell_type": "code",
      "metadata": {
        "id": "vEFkgucqs5NT",
        "colab_type": "code",
        "colab": {}
      },
      "source": [
        "from pyspark.sql import SparkSession\n",
        "spark = SparkSession.builder.appName(\"Schema\").config(\"spark.driver.extraClassPath\",\"/content/postgresql-42.2.9.jar\").getOrCreate()"
      ],
      "execution_count": 0,
      "outputs": []
    },
    {
      "cell_type": "markdown",
      "metadata": {
        "id": "q1dtbwzTtLrv",
        "colab_type": "text"
      },
      "source": [
        "## Mount Google Drive into this runtime\n"
      ]
    },
    {
      "cell_type": "code",
      "metadata": {
        "id": "vu9srbq1tMTs",
        "colab_type": "code",
        "colab": {}
      },
      "source": [
        "# Mount Google Drive\n",
        "from google.colab import drive\n",
        "drive.mount('/content/gdrive')"
      ],
      "execution_count": 0,
      "outputs": []
    },
    {
      "cell_type": "code",
      "metadata": {
        "id": "JKVLcDshtSAV",
        "colab_type": "code",
        "colab": {}
      },
      "source": [
        "%cd /content/gdrive/My Drive/data_final_project/mental_health_ML"
      ],
      "execution_count": 0,
      "outputs": []
    },
    {
      "cell_type": "markdown",
      "metadata": {
        "id": "MDty34Bk0CtN",
        "colab_type": "text"
      },
      "source": [
        "## Import database credentials and dependencies"
      ]
    },
    {
      "cell_type": "code",
      "metadata": {
        "id": "Ls4NWXAGtfeG",
        "colab_type": "code",
        "colab": {}
      },
      "source": [
        "# Database credentials\n",
        "from config import DB_USERNAME, DB_PASSWORD, DB_ENDPOINT\n",
        "\n",
        "# Used for making database connection.\n",
        "! pip install sqlalchemy\n",
        "\n",
        "from sqlalchemy import create_engine\n",
        "from sqlalchemy.schema import (MetaData, Table)\n",
        "\n",
        "# Used to abstract classes into tables.\n",
        "from sqlalchemy.ext.declarative import declarative_base\n",
        "\n",
        "# Used to declare column types.\n",
        "from sqlalchemy import Column, Integer, String, ForeignKey"
      ],
      "execution_count": 0,
      "outputs": []
    },
    {
      "cell_type": "markdown",
      "metadata": {
        "id": "YiZAulyj0JIP",
        "colab_type": "text"
      },
      "source": [
        "## Database Table Names"
      ]
    },
    {
      "cell_type": "code",
      "metadata": {
        "id": "jNt9Kfr6uZb3",
        "colab_type": "code",
        "colab": {}
      },
      "source": [
        "# Constants\n",
        "SURVEY_RESPONSES_TABLE = 'survey_responses'\n",
        "DEMOGRAPHICS_TABLE = 'demographics'"
      ],
      "execution_count": 0,
      "outputs": []
    },
    {
      "cell_type": "markdown",
      "metadata": {
        "id": "fYkDm94l0RnH",
        "colab_type": "text"
      },
      "source": [
        "## Connect to database"
      ]
    },
    {
      "cell_type": "code",
      "metadata": {
        "id": "N78DxsJYvAG6",
        "colab_type": "code",
        "colab": {}
      },
      "source": [
        "! pip install psycopg2-binary\n",
        "\n",
        "rds_connection_string = f\"{DB_USERNAME}:{DB_PASSWORD}@{DB_ENDPOINT}:5432/mental_health_tech_db\"\n",
        "engine = create_engine(f'postgresql://{rds_connection_string}')"
      ],
      "execution_count": 0,
      "outputs": []
    },
    {
      "cell_type": "markdown",
      "metadata": {
        "id": "8ROqH_Ku0dTK",
        "colab_type": "text"
      },
      "source": [
        "## Create classes and define schemas that will be associated with tables in database"
      ]
    },
    {
      "cell_type": "code",
      "metadata": {
        "id": "LoJUwO21v5JK",
        "colab_type": "code",
        "colab": {}
      },
      "source": [
        "# Sets an object to utilize the default declarative base in SQL Alchemy.\n",
        "Base = declarative_base()"
      ],
      "execution_count": 0,
      "outputs": []
    },
    {
      "cell_type": "code",
      "metadata": {
        "id": "XEFAJ0K0wAfK",
        "colab_type": "code",
        "colab": {}
      },
      "source": [
        "# Clear out db\n",
        "Base.metadata.drop_all(bind=engine)"
      ],
      "execution_count": 0,
      "outputs": []
    },
    {
      "cell_type": "code",
      "metadata": {
        "id": "nhuMlq071mH_",
        "colab_type": "code",
        "colab": {}
      },
      "source": [
        "# Create class and define schema for survey_responses table\n",
        "class SurveyResponses(Base):\n",
        "    __tablename__ = SURVEY_RESPONSES_TABLE\n",
        "    id = Column(String(255), primary_key=True, nullable=False, unique=True)\n",
        "    year = Column(Integer, nullable=False)\n",
        "    number_employees = Column(String(255), nullable=True)\n",
        "    is_tech_company = Column(Integer, nullable=True)\n",
        "    employer_provides_mental_health_benefits = Column(String(255), nullable=True)\n",
        "    knows_options_available = Column(String(255), nullable=True)\n",
        "    employer_formally_discussed_mental_health = Column(String(255), nullable=True)\n",
        "    employer_offers_resources\t = Column(String(255), nullable=True)\n",
        "    is_anonymity_protected_by_employer = Column(String(255), nullable=True)\n",
        "    level_difficulty_asking_for_leave = Column(String(255), nullable=True)\n",
        "    comfortable_talking_physical_mental_coworkers = Column(String(255), nullable=True)\n",
        "    comfortable_discussing_with_supervisor = Column(String(255), nullable=True)\n",
        "    has_discussed_with_employer = Column(Integer, nullable=True)\n",
        "    conversation_with_employer = Column(String, nullable=True)\n",
        "    comfortable_discussing_with_coworkers = Column(String(255), nullable=True)\n",
        "    has_discussed_with_coworkers = Column(Integer, nullable=True)\n",
        "    conversation_with_coworkers = Column(String, nullable=True)\n",
        "    had_coworker_discuss_mental_health = Column(Integer, nullable=True)\n",
        "    conversation_coworker_had = Column(String, nullable=True)\n",
        "    employer_physical_health_importance = Column(Integer, nullable=True)\n",
        "    employer_mental_health_importance = Column(Integer, nullable=True)\n",
        "    has_previous_employers = Column(Integer, nullable=True)\n",
        "    is_previous_employer_tech_company = Column(Integer, nullable=True)\n",
        "    previous_employer_provided_mental_health_benefits = Column(String(255), nullable=True)\n",
        "    aware_options_from_previous_employer = Column(String(255), nullable=True)\n",
        "    previous_employer_formally_discussed_mental_health = Column(String(255), nullable=True)\n",
        "    previous_employer_offered_resources = Column(String(255), nullable=True)\n",
        "    is_anonymity_protected_by_previous_employer = Column(String(255), nullable=True)\n",
        "    comfortable_talking_physical_mental_previous_employer = Column(String(255), nullable=True)\n",
        "    comfortable_discussing_with_previous_supervisor = Column(String(255), nullable=True)\n",
        "    has_discussed_with_previous_employer = Column(Integer, nullable=True)\n",
        "    conversation_with_previous_employer = Column(String, nullable=True)\n",
        "    willing_discuss_with_previous_coworkers = Column(String(255), nullable=True)\n",
        "    has_discussed_with_previous_coworkers = Column(Integer, nullable=True)\n",
        "    conversation_with_previous_coworkers  = Column(String, nullable=True)\n",
        "    had_previous_coworker_discuss_mental_health = Column(Integer, nullable=True)\n",
        "    conversation_previous_coworker_had = Column(String, nullable=True)\n",
        "    previous_employer_physical_health_importance = Column(Integer, nullable=True)\n",
        "    previous_employer_mental_health_importance = Column(Integer, nullable=True)\n",
        "    currently_has_mental_health_disorder = Column(String(255), nullable=True)\n",
        "    has_been_diagnosed = Column(String(255), nullable=True)\n",
        "    had_disorder_in_past = Column(String(255), nullable=True)\n",
        "    sought_treatment_for_mental_health = Column(Integer, nullable=True)\n",
        "    has_family_history = Column(String(255), nullable=True)\n",
        "    interferes_with_work_treated = Column(String(255), nullable=True)\n",
        "    interferes_with_work_not_treated = Column(String(255), nullable=True)\n",
        "    observations_of_others = Column(String(255), nullable=True)\n",
        "    willingness_to_share = Column(Integer, nullable=True)\n",
        "    physical_health_in_interview = Column(String(255), nullable=True)\n",
        "    comments_physical_health_in_interview = Column(String, nullable=True)\n",
        "    mental_health_in_interview = Column(String(255), nullable=True)\n",
        "    comments_mental_health_in_interview = Column(String, nullable=True)\n",
        "    is_openly_identified = Column(Integer, nullable=True)\n",
        "    how_think_coworkers_would_react = Column(Integer, nullable=True)\n",
        "    experienced_unsupportive_response = Column(String(255), nullable=True)\n",
        "    comments_unsupportive_response = Column(String, nullable=True)\n",
        "    experienced_supportive_response = Column(String(255), nullable=True)\n",
        "    comments_supportive_response = Column(String, nullable=True)\n",
        "    tech_industry_level_support = Column(Integer, nullable=True)\n",
        "    comments_improve_mental_health_support = Column(String, nullable=True)\n",
        "    additional_comments = Column(String, nullable=True)\n",
        "    interferes_with_work = Column(String(255), nullable=True)\n",
        "    discussing_mental_health_has_consequences = Column(String(255), nullable=True)\n",
        "    discussing_physical_health_has_consequences = Column(String(255), nullable=True)\n",
        "    employer_takes_mental_seriously_as_physical = Column(String(255), nullable=True)\n",
        "    observed_consequences_for_coworkers = Column(String(255), nullable=True)\n",
        "    discussing_mental_has_consequences_previous_employer = Column(String(255), nullable=True)\n",
        "    discussiong_physical_has_consequences_previous_employer = Column(String(255), nullable=True)\n",
        "    previous_employer_took_mental_seriously_as_physical = Column(String(255), nullable=True)\n",
        "    observed_consequences_for_previous_coworkers = Column(String(255), nullable=True)\n",
        "    feels_mental_health_hurts_career = Column(String(255), nullable=True)\n",
        "    thinks_coworkers_view_negatively = Column(String(255), nullable=True)"
      ],
      "execution_count": 0,
      "outputs": []
    },
    {
      "cell_type": "code",
      "metadata": {
        "id": "JDeY1WvdwEYS",
        "colab_type": "code",
        "colab": {}
      },
      "source": [
        "# Create class and define schema for demographics table.\n",
        "class Demographics(Base):\n",
        "    __tablename__ = DEMOGRAPHICS_TABLE\n",
        "    id = Column(String(255), primary_key=True, nullable=False, unique=True)\n",
        "    age = Column(Integer, nullable=True)\n",
        "    gender = Column(String(255), nullable=True)\n",
        "    country_living_in = Column(String(255), nullable=True)\n",
        "    race = Column(String(255), nullable=True)\n",
        "    country_working_in = Column(String(255), nullable=True)\n",
        "    works_remotely = Column(String(255), nullable=True)\n",
        "    survey_id = Column(String(255), ForeignKey(f\"{SURVEY_RESPONSES_TABLE}.id\"), nullable=True)"
      ],
      "execution_count": 0,
      "outputs": []
    },
    {
      "cell_type": "code",
      "metadata": {
        "id": "NucIXiMfxOEM",
        "colab_type": "code",
        "colab": {}
      },
      "source": [
        "# Create (if not already in existence) the table associated with class.\n",
        "Base.metadata.create_all(engine)"
      ],
      "execution_count": 0,
      "outputs": []
    },
    {
      "cell_type": "markdown",
      "metadata": {
        "id": "2eYW9EwTjlu5",
        "colab_type": "text"
      },
      "source": [
        "## Check for tables"
      ]
    },
    {
      "cell_type": "code",
      "metadata": {
        "id": "baAs5IyMxcgU",
        "colab_type": "code",
        "colab": {}
      },
      "source": [
        "engine.table_names()"
      ],
      "execution_count": 0,
      "outputs": []
    }
  ]
}
